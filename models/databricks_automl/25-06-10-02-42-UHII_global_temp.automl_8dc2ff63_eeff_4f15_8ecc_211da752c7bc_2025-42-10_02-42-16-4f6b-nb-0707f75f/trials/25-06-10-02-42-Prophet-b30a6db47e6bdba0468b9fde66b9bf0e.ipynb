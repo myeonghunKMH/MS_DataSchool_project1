{
 "cells": [
  {
   "cell_type": "markdown",
   "metadata": {
    "application/vnd.databricks.v1+cell": {
     "cellMetadata": {},
     "inputWidgets": {},
     "nuid": "f225df39-f34b-4cd0-9c37-a90f058e3263",
     "showTitle": false,
     "tableResultSettingsMap": {},
     "title": ""
    }
   },
   "source": [
    "# Prophet training\n",
    "- This is an auto-generated notebook.\n",
    "- To reproduce these results, attach this notebook to a cluster with runtime version **15.4.x-cpu-ml-scala2.12**, and rerun it.\n",
    "- Compare trials in the [MLflow experiment](#mlflow/experiments/4326011134824202).\n",
    "- Clone this notebook into your project folder by selecting **File > Clone** in the notebook toolbar."
   ]
  },
  {
   "cell_type": "code",
   "execution_count": 0,
   "metadata": {
    "application/vnd.databricks.v1+cell": {
     "cellMetadata": {},
     "inputWidgets": {},
     "nuid": "8a8bc1de-521e-4cce-a939-e0b01132e613",
     "showTitle": false,
     "tableResultSettingsMap": {},
     "title": ""
    }
   },
   "outputs": [],
   "source": [
    "import mlflow\n",
    "import databricks.automl_runtime\n",
    "\n",
    "target_col = \"UHII\"\n",
    "time_col = \"timestamp\"\n",
    "unit = \"day\"\n",
    "\n",
    "horizon = 1"
   ]
  },
  {
   "cell_type": "markdown",
   "metadata": {
    "application/vnd.databricks.v1+cell": {
     "cellMetadata": {},
     "inputWidgets": {},
     "nuid": "b3f011f9-e67f-4fbb-a1b3-9de9b6859fa1",
     "showTitle": false,
     "tableResultSettingsMap": {},
     "title": ""
    }
   },
   "source": [
    "## Load Data"
   ]
  },
  {
   "cell_type": "code",
   "execution_count": 0,
   "metadata": {
    "application/vnd.databricks.v1+cell": {
     "cellMetadata": {},
     "inputWidgets": {},
     "nuid": "25ae2fc2-4312-427e-8585-e5910d063ab9",
     "showTitle": false,
     "tableResultSettingsMap": {},
     "title": ""
    }
   },
   "outputs": [],
   "source": [
    "import mlflow\n",
    "import os\n",
    "import uuid\n",
    "import shutil\n",
    "import pandas as pd\n",
    "import pyspark.pandas as ps\n",
    "\n",
    "# Create temp directory to download input data from MLflow\n",
    "input_temp_dir = os.path.join(os.environ[\"SPARK_LOCAL_DIRS\"], \"tmp\", str(uuid.uuid4())[:8])\n",
    "os.makedirs(input_temp_dir)\n",
    "\n",
    "# Download the artifact and read it into a pandas DataFrame\n",
    "input_data_path = mlflow.artifacts.download_artifacts(run_id=\"2c0bbe92921d4593af28b3706e98c883\", artifact_path=\"data\", dst_path=input_temp_dir)\n",
    "\n",
    "input_file_path = os.path.join(input_data_path, \"training_data\")\n",
    "input_file_path = \"file://\" + input_file_path\n",
    "df_loaded = ps.from_pandas(pd.read_parquet(input_file_path))\n",
    "\n",
    "# Preview data\n",
    "display(df_loaded.head(5))"
   ]
  },
  {
   "cell_type": "markdown",
   "metadata": {
    "application/vnd.databricks.v1+cell": {
     "cellMetadata": {},
     "inputWidgets": {},
     "nuid": "31ed3e32-e20d-4503-b33a-a446a842de25",
     "showTitle": false,
     "tableResultSettingsMap": {},
     "title": ""
    }
   },
   "source": [
    "## Aggregate data by `time_col`\n",
    "Group the data by `time_col`, and take average if there are multiple `target_col` values in the same group."
   ]
  },
  {
   "cell_type": "code",
   "execution_count": 0,
   "metadata": {
    "application/vnd.databricks.v1+cell": {
     "cellMetadata": {},
     "inputWidgets": {},
     "nuid": "bd34c727-470e-49f5-b695-3792b9bb09e5",
     "showTitle": false,
     "tableResultSettingsMap": {},
     "title": ""
    }
   },
   "outputs": [],
   "source": [
    "group_cols = [time_col]\n",
    "df_aggregated = df_loaded \\\n",
    "  .groupby(group_cols) \\\n",
    "  .agg(y=(target_col, \"avg\")) \\\n",
    "  .reset_index()\n",
    "\n",
    "display(df_aggregated.head(5))"
   ]
  },
  {
   "cell_type": "markdown",
   "metadata": {
    "application/vnd.databricks.v1+cell": {
     "cellMetadata": {},
     "inputWidgets": {},
     "nuid": "8b81b33b-3d5d-4dbc-b188-daa6c31a280d",
     "showTitle": false,
     "tableResultSettingsMap": {},
     "title": ""
    }
   },
   "source": [
    "## Train Prophet model\n",
    "- Log relevant metrics to MLflow to track runs\n",
    "- All the runs are logged under [this MLflow experiment](#mlflow/experiments/4326011134824202)\n",
    "- Change the model parameters and re-run the training cell to log a different trial to the MLflow experiment"
   ]
  },
  {
   "cell_type": "code",
   "execution_count": 0,
   "metadata": {
    "application/vnd.databricks.v1+cell": {
     "cellMetadata": {},
     "inputWidgets": {},
     "nuid": "84cf9ca7-ec3c-4bac-a98d-b3c428c58a6a",
     "showTitle": false,
     "tableResultSettingsMap": {},
     "title": ""
    }
   },
   "outputs": [],
   "source": []
  },
  {
   "cell_type": "code",
   "execution_count": 0,
   "metadata": {
    "application/vnd.databricks.v1+cell": {
     "cellMetadata": {},
     "inputWidgets": {},
     "nuid": "bc31f9c4-a261-4644-aa7d-40caceec66cc",
     "showTitle": false,
     "tableResultSettingsMap": {},
     "title": ""
    }
   },
   "outputs": [],
   "source": [
    "import logging\n",
    "\n",
    "# disable informational messages from prophet\n",
    "logging.getLogger(\"py4j\").setLevel(logging.WARNING)"
   ]
  },
  {
   "cell_type": "code",
   "execution_count": 0,
   "metadata": {
    "application/vnd.databricks.v1+cell": {
     "cellMetadata": {},
     "inputWidgets": {},
     "nuid": "47934f74-2801-42d8-a5d7-13095f9864a7",
     "showTitle": false,
     "tableResultSettingsMap": {},
     "title": ""
    }
   },
   "outputs": [],
   "source": [
    "result_columns = [\"model_json\", \"mse\", \"rmse\", \"mae\", \"mape\", \"mdape\", \"smape\", \"coverage\"]\n",
    "\n",
    "def prophet_training(history_pd):\n",
    "  from hyperopt import hp\n",
    "  from databricks.automl_runtime.forecast.prophet.forecast import ProphetHyperoptEstimator\n",
    "\n",
    "  seasonality_mode = [\"additive\", \"multiplicative\"]\n",
    "  search_space =  {\n",
    "    \"changepoint_prior_scale\": hp.loguniform(\"changepoint_prior_scale\", -6.9, -0.69),\n",
    "    \"seasonality_prior_scale\": hp.loguniform(\"seasonality_prior_scale\", -6.9, 2.3),\n",
    "    \"holidays_prior_scale\": hp.loguniform(\"holidays_prior_scale\", -6.9, 2.3),\n",
    "    \"seasonality_mode\": hp.choice(\"seasonality_mode\", seasonality_mode)\n",
    "  }\n",
    "  country_holidays=\"US\"\n",
    "  run_parallel = True\n",
    " \n",
    "  hyperopt_estim = ProphetHyperoptEstimator(horizon=horizon, frequency_unit=unit, metric=\"rmse\",interval_width=0.8,\n",
    "                   country_holidays=country_holidays, search_space=search_space, num_folds=20, max_eval=10, trial_timeout=1694,\n",
    "                   random_state=744303417, is_parallel=run_parallel)\n",
    "\n",
    "  spark.conf.set(\"spark.databricks.mlflow.trackHyperopt.enabled\", \"false\")\n",
    "\n",
    "  results_pd = hyperopt_estim.fit(history_pd)\n",
    "\n",
    "  spark.conf.set(\"spark.databricks.mlflow.trackHyperopt.enabled\", \"true\")\n",
    " \n",
    "  return results_pd[result_columns]"
   ]
  },
  {
   "cell_type": "code",
   "execution_count": 0,
   "metadata": {
    "application/vnd.databricks.v1+cell": {
     "cellMetadata": {},
     "inputWidgets": {},
     "nuid": "2c795cdb-0dae-4426-8500-06546f65c689",
     "showTitle": false,
     "tableResultSettingsMap": {},
     "title": ""
    }
   },
   "outputs": [],
   "source": [
    "import mlflow\n",
    "from databricks.automl_runtime.forecast.prophet.model import mlflow_prophet_log_model, ProphetModel\n",
    "\n",
    "with mlflow.start_run(experiment_id=\"4326011134824202\", run_name=\"Prophet\") as mlflow_run:\n",
    "  mlflow.set_tag(\"estimator_name\", \"Prophet\")\n",
    "  mlflow.log_param(\"holiday_country\", \"US\")\n",
    "  mlflow.log_param(\"interval_width\", 0.8)\n",
    "  df_aggregated = df_aggregated.rename(columns={time_col: \"ds\"})\n",
    "\n",
    "  forecast_results = prophet_training(df_aggregated.to_pandas())\n",
    "    \n",
    "  # Log the metrics to mlflow\n",
    "  metric_name_map = {\"mse\": \"mean_squared_error\", \"rmse\": \"root_mean_squared_error\", \"mae\": \"mean_absolute_error\",\n",
    "                     \"mape\": \"mean_absolute_percentage_error\", \"mdape\": \"mdape\", \"smape\": \"smape\", \"coverage\": \"coverage\"}\n",
    "  avg_metrics = forecast_results[metric_name_map.keys()].rename(columns=metric_name_map).mean().to_frame(name=\"mean_metrics\").reset_index()\n",
    "  avg_metrics[\"index\"] = \"val_\" + avg_metrics[\"index\"].astype(str)\n",
    "  avg_metrics.set_index(\"index\", inplace=True)\n",
    "  mlflow.log_metrics(avg_metrics.to_dict()[\"mean_metrics\"])\n",
    "\n",
    "  # Create mlflow prophet model\n",
    "  model_json = forecast_results[\"model_json\"].to_list()[0]\n",
    "  prophet_model = ProphetModel(model_json, horizon, unit, time_col)\n",
    "  mlflow_prophet_log_model(prophet_model)"
   ]
  },
  {
   "cell_type": "code",
   "execution_count": 0,
   "metadata": {
    "application/vnd.databricks.v1+cell": {
     "cellMetadata": {},
     "inputWidgets": {},
     "nuid": "b7e9ce50-8280-4cfe-9b44-d4bb8325b13b",
     "showTitle": false,
     "tableResultSettingsMap": {},
     "title": ""
    }
   },
   "outputs": [],
   "source": [
    "# Show stats of forecast_results. By default we do not display it because the output takes up a lot of storage for large datasets.\n",
    "# Change this line to `forecast_results.head()` and re-run the notebook to check the result.\n",
    "forecast_results.describe()"
   ]
  },
  {
   "cell_type": "markdown",
   "metadata": {
    "application/vnd.databricks.v1+cell": {
     "cellMetadata": {},
     "inputWidgets": {},
     "nuid": "326a736b-2ffc-4e84-bbbf-799f537ba417",
     "showTitle": false,
     "tableResultSettingsMap": {},
     "title": ""
    }
   },
   "source": [
    "## Analyze the predicted results"
   ]
  },
  {
   "cell_type": "code",
   "execution_count": 0,
   "metadata": {
    "application/vnd.databricks.v1+cell": {
     "cellMetadata": {},
     "inputWidgets": {},
     "nuid": "fca17f60-e2e9-4169-aee6-2c81e5f2aee1",
     "showTitle": false,
     "tableResultSettingsMap": {},
     "title": ""
    }
   },
   "outputs": [],
   "source": [
    "# Load the model\n",
    "run_id = mlflow_run.info.run_id\n",
    "loaded_model = mlflow.pyfunc.load_model(f\"runs:/{run_id}/model\")"
   ]
  },
  {
   "cell_type": "code",
   "execution_count": 0,
   "metadata": {
    "application/vnd.databricks.v1+cell": {
     "cellMetadata": {},
     "inputWidgets": {},
     "nuid": "67408f8c-9182-48ed-a249-1d8b66b7d9ba",
     "showTitle": false,
     "tableResultSettingsMap": {},
     "title": ""
    }
   },
   "outputs": [],
   "source": [
    "future_df = loaded_model._model_impl.python_model.make_future_dataframe()\n",
    "display(future_df.head(5))"
   ]
  },
  {
   "cell_type": "code",
   "execution_count": 0,
   "metadata": {
    "application/vnd.databricks.v1+cell": {
     "cellMetadata": {},
     "inputWidgets": {},
     "nuid": "01a9ccab-f600-469a-98e1-3d74d7f98078",
     "showTitle": false,
     "tableResultSettingsMap": {},
     "title": ""
    }
   },
   "outputs": [],
   "source": [
    "# Predict future with the default horizon\n",
    "forecast_pd = loaded_model._model_impl.python_model.model().predict(future_df)"
   ]
  },
  {
   "cell_type": "code",
   "execution_count": 0,
   "metadata": {
    "application/vnd.databricks.v1+cell": {
     "cellMetadata": {},
     "inputWidgets": {},
     "nuid": "8fdf7681-ab5f-4dc8-af5a-b342a151b4b7",
     "showTitle": false,
     "tableResultSettingsMap": {},
     "title": ""
    }
   },
   "outputs": [],
   "source": [
    "# Plotly plots is turned off by default because it takes up a lot of storage.\n",
    "# Set this flag to True and re-run the notebook to see the interactive plots with plotly\n",
    "use_plotly = False"
   ]
  },
  {
   "cell_type": "code",
   "execution_count": 0,
   "metadata": {
    "application/vnd.databricks.v1+cell": {
     "cellMetadata": {},
     "inputWidgets": {},
     "nuid": "bbe379cb-6444-4c83-9664-033905dbacf4",
     "showTitle": false,
     "tableResultSettingsMap": {},
     "title": ""
    }
   },
   "outputs": [],
   "source": [
    "# Get prophet model\n",
    "model = loaded_model._model_impl.python_model.model()\n",
    "predict_pd = forecast_pd"
   ]
  },
  {
   "cell_type": "markdown",
   "metadata": {
    "application/vnd.databricks.v1+cell": {
     "cellMetadata": {},
     "inputWidgets": {},
     "nuid": "9b431215-6b28-4dac-9a79-4156f488fcfe",
     "showTitle": false,
     "tableResultSettingsMap": {},
     "title": ""
    }
   },
   "source": [
    "### Plot the forecast with change points and trend\n",
    "Plot the forecast using the `plot` method with your forecast dataframe. You can use `prophet.plot.add_changepoints_to_plot` to overlay significant changepoints. An interactive figure can be created with plotly."
   ]
  },
  {
   "cell_type": "code",
   "execution_count": 0,
   "metadata": {
    "application/vnd.databricks.v1+cell": {
     "cellMetadata": {},
     "inputWidgets": {},
     "nuid": "3bfc9469-da7d-499f-acdd-c5477491ea11",
     "showTitle": false,
     "tableResultSettingsMap": {},
     "title": ""
    }
   },
   "outputs": [],
   "source": [
    "from prophet.plot import add_changepoints_to_plot, plot_plotly\n",
    "\n",
    "if use_plotly:\n",
    "    fig = plot_plotly(model, predict_pd, changepoints=True, trend=True, figsize=(1200, 600))\n",
    "else:\n",
    "    fig = model.plot(predict_pd)\n",
    "    a = add_changepoints_to_plot(fig.gca(), model, predict_pd)\n",
    "fig"
   ]
  },
  {
   "cell_type": "markdown",
   "metadata": {
    "application/vnd.databricks.v1+cell": {
     "cellMetadata": {},
     "inputWidgets": {},
     "nuid": "241b0457-a049-4590-a9b2-3ed9295025c6",
     "showTitle": false,
     "tableResultSettingsMap": {},
     "title": ""
    }
   },
   "source": [
    "### Plot the forecast components\n",
    "Use the `Prophet.plot_components` method to see the components. By default you'll see the trend, yearly seasonality, and weekly seasonality of the time series. You can also include holidays. An interactive figure can be created with plotly."
   ]
  },
  {
   "cell_type": "code",
   "execution_count": 0,
   "metadata": {
    "application/vnd.databricks.v1+cell": {
     "cellMetadata": {},
     "inputWidgets": {},
     "nuid": "47c56fa1-676a-462e-9080-a694f74f1828",
     "showTitle": false,
     "tableResultSettingsMap": {},
     "title": ""
    }
   },
   "outputs": [],
   "source": [
    "from prophet.plot import plot_components_plotly\n",
    "if use_plotly:\n",
    "    fig = plot_components_plotly(model, predict_pd, figsize=(900, 400))\n",
    "    fig.show()\n",
    "else:\n",
    "    fig = model.plot_components(predict_pd)"
   ]
  },
  {
   "cell_type": "markdown",
   "metadata": {
    "application/vnd.databricks.v1+cell": {
     "cellMetadata": {},
     "inputWidgets": {},
     "nuid": "d8312102-2386-419c-8ddf-71b151a2228f",
     "showTitle": false,
     "tableResultSettingsMap": {},
     "title": ""
    }
   },
   "source": [
    "## Show the predicted results"
   ]
  },
  {
   "cell_type": "code",
   "execution_count": 0,
   "metadata": {
    "application/vnd.databricks.v1+cell": {
     "cellMetadata": {},
     "inputWidgets": {},
     "nuid": "12eb7eaf-73ef-4d1d-9a3c-c15ea1845e33",
     "showTitle": false,
     "tableResultSettingsMap": {},
     "title": ""
    }
   },
   "outputs": [],
   "source": [
    "predict_cols = [\"ds\", \"yhat\"]\n",
    "forecast_pd = forecast_pd.reset_index()\n",
    "display(forecast_pd[predict_cols].tail(horizon))"
   ]
  },
  {
   "cell_type": "code",
   "execution_count": 0,
   "metadata": {
    "application/vnd.databricks.v1+cell": {
     "cellMetadata": {},
     "inputWidgets": {},
     "nuid": "f7a35088-5326-44fc-83f2-8a8d30b26110",
     "showTitle": false,
     "tableResultSettingsMap": {},
     "title": ""
    },
    "worker_config_only": true
   },
   "outputs": [],
   "source": [
    "import json\n",
    "\n",
    "# Fetch the run-id of the current job\n",
    "exp_tags = json.loads(\n",
    "    dbutils.notebook.entry_point.getDbutils().notebook().getContext().toJson()\n",
    ").get('tags')\n",
    "\n",
    "exp_data = {\n",
    "    \"workflow_run_id\": exp_tags.get(\"runId\", \"\"),\n",
    "    \"mlflow_run_id\": mlflow_run.info.run_id\n",
    "}\n",
    "\n",
    "dbutils.notebook.exit(json.dumps(exp_data))"
   ]
  }
 ],
 "metadata": {
  "application/vnd.databricks.v1+notebook": {
   "computePreferences": null,
   "dashboards": [],
   "environmentMetadata": null,
   "inputWidgetPreferences": null,
   "language": "python",
   "notebookMetadata": {},
   "notebookName": "25-06-10-02:42-Prophet-b30a6db47e6bdba0468b9fde66b9bf0e",
   "widgets": {}
  },
  "language_info": {
   "name": "python"
  },
  "name": "Prophet-b30a6db47e6bdba0468b9fde66b9bf0e"
 },
 "nbformat": 4,
 "nbformat_minor": 0
}
