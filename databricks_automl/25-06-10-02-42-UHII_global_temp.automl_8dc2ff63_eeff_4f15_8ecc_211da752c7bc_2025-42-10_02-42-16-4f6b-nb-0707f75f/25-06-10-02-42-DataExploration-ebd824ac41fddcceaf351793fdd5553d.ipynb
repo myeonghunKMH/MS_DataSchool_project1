{
 "cells": [
  {
   "cell_type": "markdown",
   "metadata": {
    "application/vnd.databricks.v1+cell": {
     "cellMetadata": {},
     "inputWidgets": {},
     "nuid": "b0c6b554-7ed5-4ffc-a1ea-5ccf5ad7e9f0",
     "showTitle": false,
     "tableResultSettingsMap": {},
     "title": ""
    }
   },
   "source": [
    "# Data Exploration\n",
    "- This notebook performs exploratory data analysis on the dataset.\n",
    "- To expand on the analysis, attach this notebook to a cluster with runtime version **15.4.x-cpu-ml-scala2.12**, and rerun it.\n",
    "- Explore completed trials in the [MLflow experiment](#mlflow/experiments/4326011134824202)."
   ]
  },
  {
   "cell_type": "code",
   "execution_count": 0,
   "metadata": {
    "application/vnd.databricks.v1+cell": {
     "cellMetadata": {},
     "inputWidgets": {},
     "nuid": "7b2b1a04-fac1-40ef-8d10-d34fc024822d",
     "showTitle": false,
     "tableResultSettingsMap": {},
     "title": ""
    }
   },
   "outputs": [],
   "source": [
    "import os\n",
    "import uuid\n",
    "import pandas as pd\n",
    "import shutil\n",
    "import databricks.automl_runtime\n",
    "import pyspark.pandas as ps\n",
    "\n",
    "import mlflow\n",
    "\n",
    "ps.options.plotting.backend = \"matplotlib\"\n",
    "\n",
    "# Download input data from mlflow into a pyspark.pandas DataFrame\n",
    "# create temp directory to download data\n",
    "exp_temp_dir = os.path.join(os.environ[\"SPARK_LOCAL_DIRS\"], \"tmp\", str(uuid.uuid4())[:8])\n",
    "os.makedirs(exp_temp_dir)\n",
    "\n",
    "# download the artifact and read it\n",
    "exp_data_path = mlflow.artifacts.download_artifacts(run_id=\"2c0bbe92921d4593af28b3706e98c883\", artifact_path=\"data\", dst_path=exp_temp_dir)\n",
    "exp_file_path = os.path.join(exp_data_path, \"training_data\")\n",
    "exp_file_path  = \"file://\" + exp_file_path\n",
    "\n",
    "df = ps.from_pandas(pd.read_parquet(exp_file_path)).spark.cache()\n",
    "\n",
    "target_col = \"UHII\"\n",
    "time_col = \"timestamp\""
   ]
  },
  {
   "cell_type": "markdown",
   "metadata": {
    "application/vnd.databricks.v1+cell": {
     "cellMetadata": {},
     "inputWidgets": {},
     "nuid": "90d06280-7175-42d5-980d-f709b627c23c",
     "showTitle": false,
     "tableResultSettingsMap": {},
     "title": ""
    }
   },
   "source": [
    "### Aggregate data"
   ]
  },
  {
   "cell_type": "code",
   "execution_count": 0,
   "metadata": {
    "application/vnd.databricks.v1+cell": {
     "cellMetadata": {},
     "inputWidgets": {},
     "nuid": "9dc758a8-6ec2-472a-8cb7-cfed1515874b",
     "showTitle": false,
     "tableResultSettingsMap": {},
     "title": ""
    }
   },
   "outputs": [],
   "source": [
    "group_cols = [time_col]\n",
    "\n",
    "df_aggregated = df \\\n",
    "  .groupby(group_cols) \\\n",
    "  .agg(UHII=(target_col, \"avg\")) \\\n",
    "  .reset_index()"
   ]
  },
  {
   "cell_type": "markdown",
   "metadata": {
    "application/vnd.databricks.v1+cell": {
     "cellMetadata": {},
     "inputWidgets": {},
     "nuid": "31f257ad-cc19-4e1a-971d-c98a8b37f8a2",
     "showTitle": false,
     "tableResultSettingsMap": {},
     "title": ""
    }
   },
   "source": [
    "## Time column Analysis"
   ]
  },
  {
   "cell_type": "markdown",
   "metadata": {
    "application/vnd.databricks.v1+cell": {
     "cellMetadata": {},
     "inputWidgets": {},
     "nuid": "3dedf541-8a4e-43ec-83af-3314f1739634",
     "showTitle": false,
     "tableResultSettingsMap": {},
     "title": ""
    }
   },
   "source": [
    "Show the time range for the time series"
   ]
  },
  {
   "cell_type": "code",
   "execution_count": 0,
   "metadata": {
    "application/vnd.databricks.v1+cell": {
     "cellMetadata": {},
     "inputWidgets": {},
     "nuid": "214e56b3-f1d4-4230-9403-c4611b66cac7",
     "showTitle": false,
     "tableResultSettingsMap": {},
     "title": ""
    }
   },
   "outputs": [],
   "source": [
    "df_time_range = df_aggregated[time_col].agg([\"min\", \"max\"])\n",
    "df_time_range"
   ]
  },
  {
   "cell_type": "markdown",
   "metadata": {
    "application/vnd.databricks.v1+cell": {
     "cellMetadata": {},
     "inputWidgets": {},
     "nuid": "4b79863e-dea9-477c-80f0-b2d87b271a89",
     "showTitle": false,
     "tableResultSettingsMap": {},
     "title": ""
    }
   },
   "source": [
    "## Target Value Analysis"
   ]
  },
  {
   "cell_type": "markdown",
   "metadata": {
    "application/vnd.databricks.v1+cell": {
     "cellMetadata": {},
     "inputWidgets": {},
     "nuid": "88d47043-d33d-4358-9e05-383229f12df3",
     "showTitle": false,
     "tableResultSettingsMap": {},
     "title": ""
    }
   },
   "source": [
    "Time series target value status"
   ]
  },
  {
   "cell_type": "code",
   "execution_count": 0,
   "metadata": {
    "application/vnd.databricks.v1+cell": {
     "cellMetadata": {},
     "inputWidgets": {},
     "nuid": "069b95c0-bada-492a-9583-cec9b10f2dee",
     "showTitle": false,
     "tableResultSettingsMap": {},
     "title": ""
    }
   },
   "outputs": [],
   "source": [
    "target_stats_df = df_aggregated[target_col].describe()\n",
    "display(target_stats_df.reset_index())"
   ]
  },
  {
   "cell_type": "markdown",
   "metadata": {
    "application/vnd.databricks.v1+cell": {
     "cellMetadata": {},
     "inputWidgets": {},
     "nuid": "9843c98b-3b77-4969-945f-e15be2bb1364",
     "showTitle": false,
     "tableResultSettingsMap": {},
     "title": ""
    }
   },
   "source": [
    "Check the number of missing values in the target column."
   ]
  },
  {
   "cell_type": "code",
   "execution_count": 0,
   "metadata": {
    "application/vnd.databricks.v1+cell": {
     "cellMetadata": {},
     "inputWidgets": {},
     "nuid": "593d9132-3c27-4afe-8892-4a1a42baadfa",
     "showTitle": false,
     "tableResultSettingsMap": {},
     "title": ""
    }
   },
   "outputs": [],
   "source": [
    "def num_nulls(x):\n",
    "  num_nulls = x.isnull().sum()\n",
    "  return pd.Series(num_nulls)\n",
    "\n",
    "null_stats_df = df_aggregated.apply(num_nulls)[target_col]\n",
    "null_stats_df"
   ]
  },
  {
   "cell_type": "markdown",
   "metadata": {
    "application/vnd.databricks.v1+cell": {
     "cellMetadata": {},
     "inputWidgets": {},
     "nuid": "eadbab94-462c-4080-b683-6a79779b3470",
     "showTitle": false,
     "tableResultSettingsMap": {},
     "title": ""
    }
   },
   "source": [
    "## Visualize the Data"
   ]
  },
  {
   "cell_type": "code",
   "execution_count": 0,
   "metadata": {
    "application/vnd.databricks.v1+cell": {
     "cellMetadata": {},
     "inputWidgets": {},
     "nuid": "593446af-1deb-427e-ab13-6da987103e40",
     "showTitle": false,
     "tableResultSettingsMap": {},
     "title": ""
    }
   },
   "outputs": [],
   "source": [
    "df_sub = df_aggregated\n",
    "\n",
    "df_sub = df_sub.filter(items=[time_col, target_col])\n",
    "df_sub.set_index(time_col, inplace=True)\n",
    "df_sub[target_col] = df_sub[target_col].astype(\"float\")"
   ]
  },
  {
   "cell_type": "code",
   "execution_count": 0,
   "metadata": {
    "application/vnd.databricks.v1+cell": {
     "cellMetadata": {},
     "inputWidgets": {},
     "nuid": "d3aea5de-e97b-42b9-9adf-290077da8120",
     "showTitle": false,
     "tableResultSettingsMap": {},
     "title": ""
    }
   },
   "outputs": [],
   "source": [
    "import matplotlib.pyplot as plt\n",
    "\n",
    "plt.plot(df_sub, label=target_col)\n",
    "plt.legend()\n",
    "plt.show()"
   ]
  },
  {
   "cell_type": "code",
   "execution_count": 0,
   "metadata": {
    "application/vnd.databricks.v1+cell": {
     "cellMetadata": {},
     "inputWidgets": {},
     "nuid": "cd1ac0d1-bd63-4a9c-9dfe-021ac12db457",
     "showTitle": false,
     "tableResultSettingsMap": {},
     "title": ""
    }
   },
   "outputs": [],
   "source": [
    "# delete the temp data\n",
    "shutil.rmtree(exp_temp_dir)"
   ]
  }
 ],
 "metadata": {
  "application/vnd.databricks.v1+notebook": {
   "computePreferences": null,
   "dashboards": [],
   "environmentMetadata": null,
   "inputWidgetPreferences": null,
   "language": "python",
   "notebookMetadata": {},
   "notebookName": "25-06-10-02:42-DataExploration-ebd824ac41fddcceaf351793fdd5553d",
   "widgets": {}
  },
  "language_info": {
   "name": "python"
  },
  "name": "DataExploration-ebd824ac41fddcceaf351793fdd5553d"
 },
 "nbformat": 4,
 "nbformat_minor": 0
}
