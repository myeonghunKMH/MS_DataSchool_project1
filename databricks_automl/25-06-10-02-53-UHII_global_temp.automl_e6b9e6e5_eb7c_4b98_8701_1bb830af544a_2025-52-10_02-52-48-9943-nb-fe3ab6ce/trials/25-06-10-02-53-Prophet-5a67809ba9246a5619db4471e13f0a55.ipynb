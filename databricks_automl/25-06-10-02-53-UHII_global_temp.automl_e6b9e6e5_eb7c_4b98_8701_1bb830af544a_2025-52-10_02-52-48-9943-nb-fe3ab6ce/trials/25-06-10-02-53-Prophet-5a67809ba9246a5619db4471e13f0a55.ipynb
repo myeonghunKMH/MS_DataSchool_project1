{
 "cells": [
  {
   "cell_type": "markdown",
   "metadata": {
    "application/vnd.databricks.v1+cell": {
     "cellMetadata": {},
     "inputWidgets": {},
     "nuid": "5cd4d56d-1e99-450f-a825-a1efc1430311",
     "showTitle": false,
     "tableResultSettingsMap": {},
     "title": ""
    }
   },
   "source": [
    "# Prophet training\n",
    "- This is an auto-generated notebook.\n",
    "- To reproduce these results, attach this notebook to a cluster with runtime version **15.4.x-cpu-ml-scala2.12**, and rerun it.\n",
    "- Compare trials in the [MLflow experiment](#mlflow/experiments/4326011134824737).\n",
    "- Clone this notebook into your project folder by selecting **File > Clone** in the notebook toolbar."
   ]
  },
  {
   "cell_type": "code",
   "execution_count": 0,
   "metadata": {
    "application/vnd.databricks.v1+cell": {
     "cellMetadata": {},
     "inputWidgets": {},
     "nuid": "04b4edcf-1b64-470c-a366-a1a8d841d3f1",
     "showTitle": false,
     "tableResultSettingsMap": {},
     "title": ""
    }
   },
   "outputs": [],
   "source": [
    "import mlflow\n",
    "import databricks.automl_runtime\n",
    "\n",
    "target_col = \"UHII\"\n",
    "time_col = \"timestamp\"\n",
    "unit = \"day\"\n",
    "\n",
    "id_cols = [\"District\"]\n",
    "\n",
    "horizon = 1"
   ]
  },
  {
   "cell_type": "markdown",
   "metadata": {
    "application/vnd.databricks.v1+cell": {
     "cellMetadata": {},
     "inputWidgets": {},
     "nuid": "6cb30965-224a-4d5e-9134-0521826fef50",
     "showTitle": false,
     "tableResultSettingsMap": {},
     "title": ""
    }
   },
   "source": [
    "## Load Data"
   ]
  },
  {
   "cell_type": "code",
   "execution_count": 0,
   "metadata": {
    "application/vnd.databricks.v1+cell": {
     "cellMetadata": {},
     "inputWidgets": {},
     "nuid": "05eb1132-52ab-44c6-a80b-31c348a1ecb5",
     "showTitle": false,
     "tableResultSettingsMap": {},
     "title": ""
    }
   },
   "outputs": [],
   "source": [
    "import mlflow\n",
    "import os\n",
    "import uuid\n",
    "import shutil\n",
    "import pandas as pd\n",
    "import pyspark.pandas as ps\n",
    "\n",
    "# Create temp directory to download input data from MLflow\n",
    "input_temp_dir = os.path.join(os.environ[\"SPARK_LOCAL_DIRS\"], \"tmp\", str(uuid.uuid4())[:8])\n",
    "os.makedirs(input_temp_dir)\n",
    "\n",
    "# Download the artifact and read it into a pandas DataFrame\n",
    "input_data_path = mlflow.artifacts.download_artifacts(run_id=\"e4d9b882124846dc9b947f73116c189a\", artifact_path=\"data\", dst_path=input_temp_dir)\n",
    "\n",
    "input_file_path = os.path.join(input_data_path, \"training_data\")\n",
    "input_file_path = \"file://\" + input_file_path\n",
    "df_loaded = ps.from_pandas(pd.read_parquet(input_file_path))\n",
    "\n",
    "# Preview data\n",
    "display(df_loaded.head(5))"
   ]
  },
  {
   "cell_type": "markdown",
   "metadata": {
    "application/vnd.databricks.v1+cell": {
     "cellMetadata": {},
     "inputWidgets": {},
     "nuid": "1c37d819-8ef8-4e76-8ae1-fb278d110763",
     "showTitle": false,
     "tableResultSettingsMap": {},
     "title": ""
    }
   },
   "source": [
    "## Aggregate data by `id_col` and `time_col`\n",
    "Group the data by `id_col` and `time_col`, and take average if there are multiple `target_col` values in the same group."
   ]
  },
  {
   "cell_type": "code",
   "execution_count": 0,
   "metadata": {
    "application/vnd.databricks.v1+cell": {
     "cellMetadata": {},
     "inputWidgets": {},
     "nuid": "b6507ee9-16ea-456e-9314-e18d98cbfdec",
     "showTitle": false,
     "tableResultSettingsMap": {},
     "title": ""
    }
   },
   "outputs": [],
   "source": [
    "group_cols = [time_col] + id_cols\n",
    "\n",
    "df_aggregated = df_loaded \\\n",
    "  .groupby(group_cols) \\\n",
    "  .agg(y=(target_col, \"avg\")) \\\n",
    "  .reset_index()\n",
    "\n",
    "df_aggregated = df_aggregated.assign(ts_id=lambda x:x[\"District\"].astype(str))\n",
    "\n",
    "\n",
    "display(df_aggregated.head(5))"
   ]
  },
  {
   "cell_type": "markdown",
   "metadata": {
    "application/vnd.databricks.v1+cell": {
     "cellMetadata": {},
     "inputWidgets": {},
     "nuid": "62afc78f-3570-411d-9bd5-cc541c44c3b0",
     "showTitle": false,
     "tableResultSettingsMap": {},
     "title": ""
    }
   },
   "source": [
    "## Train Prophet model\n",
    "- Log relevant metrics to MLflow to track runs\n",
    "- All the runs are logged under [this MLflow experiment](#mlflow/experiments/4326011134824737)\n",
    "- Change the model parameters and re-run the training cell to log a different trial to the MLflow experiment"
   ]
  },
  {
   "cell_type": "code",
   "execution_count": 0,
   "metadata": {
    "application/vnd.databricks.v1+cell": {
     "cellMetadata": {},
     "inputWidgets": {},
     "nuid": "d1c86469-40b9-4875-9ee8-006d90e4d6a8",
     "showTitle": false,
     "tableResultSettingsMap": {},
     "title": ""
    }
   },
   "outputs": [],
   "source": []
  },
  {
   "cell_type": "code",
   "execution_count": 0,
   "metadata": {
    "application/vnd.databricks.v1+cell": {
     "cellMetadata": {},
     "inputWidgets": {},
     "nuid": "a2c04902-36f9-4775-9d49-ce4eb9d9f7b7",
     "showTitle": false,
     "tableResultSettingsMap": {},
     "title": ""
    }
   },
   "outputs": [],
   "source": [
    "import logging\n",
    "\n",
    "# disable informational messages from prophet\n",
    "logging.getLogger(\"py4j\").setLevel(logging.WARNING)"
   ]
  },
  {
   "cell_type": "code",
   "execution_count": 0,
   "metadata": {
    "application/vnd.databricks.v1+cell": {
     "cellMetadata": {},
     "inputWidgets": {},
     "nuid": "ce49f4e5-6d3c-4ef7-a607-158c08e550a8",
     "showTitle": false,
     "tableResultSettingsMap": {},
     "title": ""
    }
   },
   "outputs": [],
   "source": [
    "from pyspark.sql.types import *\n",
    "\n",
    "df_schema = df_aggregated.to_spark().schema\n",
    "result_columns = id_cols + [\"model_json\", \"prophet_params\", \"start_time\", \"end_time\", \"mse\",\n",
    "                  \"rmse\", \"mae\", \"mape\", \"mdape\", \"smape\", \"coverage\"]\n",
    "result_schema = StructType(\n",
    "  [StructField(id_col, df_schema[id_col].dataType) for id_col in id_cols] + [\n",
    "  StructField(\"model_json\", StringType()),\n",
    "  StructField(\"prophet_params\", StringType()),\n",
    "  StructField(\"start_time\", TimestampType()),\n",
    "  StructField(\"end_time\", TimestampType()),\n",
    "  StructField(\"mse\", FloatType()),\n",
    "  StructField(\"rmse\", FloatType()),\n",
    "  StructField(\"mae\", FloatType()),\n",
    "  StructField(\"mape\", FloatType()),\n",
    "  StructField(\"mdape\", FloatType()),\n",
    "  StructField(\"smape\", FloatType()),\n",
    "  StructField(\"coverage\", FloatType())\n",
    "  ])\n",
    "\n",
    "def prophet_training(history_pd):\n",
    "  from hyperopt import hp\n",
    "  from databricks.automl_runtime.forecast.prophet.forecast import ProphetHyperoptEstimator\n",
    "\n",
    "  seasonality_mode = [\"additive\", \"multiplicative\"]\n",
    "  search_space =  {\n",
    "    \"changepoint_prior_scale\": hp.loguniform(\"changepoint_prior_scale\", -6.9, -0.69),\n",
    "    \"seasonality_prior_scale\": hp.loguniform(\"seasonality_prior_scale\", -6.9, 2.3),\n",
    "    \"holidays_prior_scale\": hp.loguniform(\"holidays_prior_scale\", -6.9, 2.3),\n",
    "    \"seasonality_mode\": hp.choice(\"seasonality_mode\", seasonality_mode)\n",
    "  }\n",
    "  country_holidays=\"US\"\n",
    "  run_parallel = False\n",
    " \n",
    "  hyperopt_estim = ProphetHyperoptEstimator(horizon=horizon, frequency_unit=unit, metric=\"rmse\",interval_width=0.95,\n",
    "                   country_holidays=country_holidays, search_space=search_space, num_folds=5, max_eval=10, trial_timeout=1455,\n",
    "                   random_state=783310622, is_parallel=run_parallel)\n",
    "\n",
    "  results_pd = hyperopt_estim.fit(history_pd)\n",
    "  results_pd[id_cols] = history_pd[id_cols]\n",
    "  results_pd[\"start_time\"] = pd.Timestamp(history_pd[\"ds\"].min())\n",
    "  results_pd[\"end_time\"] = pd.Timestamp(history_pd[\"ds\"].max())\n",
    " \n",
    "  return results_pd[result_columns]\n",
    "\n",
    "def train_with_fail_safe(df):\n",
    "  try:\n",
    "    return prophet_training(df)\n",
    "  except Exception as e:\n",
    "    print(f\"Encountered an exception while training timeseries: {repr(e)}\")\n",
    "    return pd.DataFrame(columns=result_columns)"
   ]
  },
  {
   "cell_type": "code",
   "execution_count": 0,
   "metadata": {
    "application/vnd.databricks.v1+cell": {
     "cellMetadata": {},
     "inputWidgets": {},
     "nuid": "d489794c-79bc-4cff-87d1-ac05e9c043d2",
     "showTitle": false,
     "tableResultSettingsMap": {},
     "title": ""
    }
   },
   "outputs": [],
   "source": [
    "import mlflow\n",
    "from databricks.automl_runtime.forecast.prophet.model import mlflow_prophet_log_model, MultiSeriesProphetModel\n",
    "\n",
    "with mlflow.start_run(experiment_id=\"4326011134824737\", run_name=\"Prophet\") as mlflow_run:\n",
    "  mlflow.set_tag(\"estimator_name\", \"Prophet\")\n",
    "  mlflow.log_param(\"holiday_country\", \"US\")\n",
    "  mlflow.log_param(\"interval_width\", 0.95)\n",
    "  df_aggregated = df_aggregated.rename(columns={time_col: \"ds\"})\n",
    "\n",
    "  forecast_results = (df_aggregated.to_spark().repartition(sc.defaultParallelism, \"ts_id\") \\\n",
    "    .groupby(\"ts_id\").applyInPandas(train_with_fail_safe, result_schema)).cache().pandas_api()\n",
    "  results_pdf = forecast_results[id_cols + [\"model_json\", \"start_time\", \"end_time\"]].to_pandas()\n",
    "  results_pdf[\"ts_id\"] = results_pdf[id_cols].astype(str).agg('-'.join, axis=1)\n",
    "  results_pdf[\"ts_id_tuple\"] = results_pdf[id_cols].apply(tuple, axis=1)\n",
    "   \n",
    "  # Check whether every time series's model is trained\n",
    "  ts_models_trained = set(results_pdf[\"ts_id\"].unique().tolist())\n",
    "  ts_ids = set(df_aggregated[\"ts_id\"].unique().tolist())\n",
    "\n",
    "  if len(ts_models_trained) == 0:\n",
    "    raise Exception(\"Trial unable to train models for any identities. Please check the training cell for error details\")\n",
    "\n",
    "  if ts_ids != ts_models_trained:\n",
    "    mlflow.log_param(\"partial_model\", True)\n",
    "    print(f\"WARNING: Models not trained for the following identities: {ts_ids.difference(ts_models_trained)}\")\n",
    " \n",
    "  # Log the metrics to mlflow\n",
    "  metric_name_map = {\"mse\": \"mean_squared_error\", \"rmse\": \"root_mean_squared_error\", \"mae\": \"mean_absolute_error\",\n",
    "                     \"mape\": \"mean_absolute_percentage_error\", \"mdape\": \"mdape\", \"smape\": \"smape\", \"coverage\": \"coverage\"}\n",
    "  avg_metrics = forecast_results[metric_name_map.keys()].rename(columns=metric_name_map).mean().to_frame(name=\"mean_metrics\").reset_index()\n",
    "  avg_metrics[\"index\"] = \"val_\" + avg_metrics[\"index\"].astype(str)\n",
    "  avg_metrics.set_index(\"index\", inplace=True)\n",
    "  mlflow.log_metrics(avg_metrics.to_dict()[\"mean_metrics\"])\n",
    "\n",
    "  # Create mlflow prophet model\n",
    "  results_pdf = results_pdf.set_index(\"ts_id_tuple\")\n",
    "  model_json = results_pdf[\"model_json\"].to_dict()\n",
    "  start_time = results_pdf[\"start_time\"].to_dict()\n",
    "  end_time = results_pdf[\"end_time\"].to_dict()\n",
    "  end_history_time = max(end_time.values())\n",
    "  prophet_model = MultiSeriesProphetModel(model_json, start_time, end_history_time, horizon, unit, time_col, id_cols)\n",
    "\n",
    "  # Generate sample input dataframe\n",
    "  sample_input = df_loaded.head(1).to_pandas()\n",
    "  sample_input[time_col] = pd.to_datetime(sample_input[time_col])\n",
    "  sample_input.drop(columns=[target_col], inplace=True)\n",
    "\n",
    "  mlflow_prophet_log_model(prophet_model, sample_input=sample_input)"
   ]
  },
  {
   "cell_type": "code",
   "execution_count": 0,
   "metadata": {
    "application/vnd.databricks.v1+cell": {
     "cellMetadata": {},
     "inputWidgets": {},
     "nuid": "7f04d8c5-06bd-46ba-a882-d07d0acc8d6c",
     "showTitle": false,
     "tableResultSettingsMap": {},
     "title": ""
    }
   },
   "outputs": [],
   "source": [
    "# Show stats of forecast_results. By default we do not display it because the output takes up a lot of storage for large datasets.\n",
    "# Change this line to `forecast_results.head()` and re-run the notebook to check the result.\n",
    "forecast_results.describe()"
   ]
  },
  {
   "cell_type": "markdown",
   "metadata": {
    "application/vnd.databricks.v1+cell": {
     "cellMetadata": {},
     "inputWidgets": {},
     "nuid": "a7d4a4d6-e1e8-49a9-bf68-857fa3563f07",
     "showTitle": false,
     "tableResultSettingsMap": {},
     "title": ""
    }
   },
   "source": [
    "## Analyze the predicted results"
   ]
  },
  {
   "cell_type": "code",
   "execution_count": 0,
   "metadata": {
    "application/vnd.databricks.v1+cell": {
     "cellMetadata": {},
     "inputWidgets": {},
     "nuid": "4e0c8b4f-e6be-404f-a8fb-8e17bc02f05c",
     "showTitle": false,
     "tableResultSettingsMap": {},
     "title": ""
    }
   },
   "outputs": [],
   "source": [
    "# Load the model\n",
    "run_id = mlflow_run.info.run_id\n",
    "loaded_model = mlflow.pyfunc.load_model(f\"runs:/{run_id}/model\")"
   ]
  },
  {
   "cell_type": "code",
   "execution_count": 0,
   "metadata": {
    "application/vnd.databricks.v1+cell": {
     "cellMetadata": {},
     "inputWidgets": {},
     "nuid": "afeeb313-ef33-4c81-9bbe-0e0b27b4da44",
     "showTitle": false,
     "tableResultSettingsMap": {},
     "title": ""
    }
   },
   "outputs": [],
   "source": [
    "model = loaded_model._model_impl.python_model\n",
    "col_types = [StructField(f\"{n}\", FloatType()) for n in model.get_reserved_cols()]\n",
    "col_types.append(StructField(\"ds\",TimestampType()))\n",
    "col_types.append(StructField(\"ts_id\",StringType()))\n",
    "result_schema = StructType(col_types)\n",
    "\n",
    "future_df = model.make_future_dataframe(include_history=False)\n",
    "future_df[\"ts_id\"] = future_df[id_cols].apply(tuple, axis=1)\n",
    "future_df = future_df.rename(columns={time_col: \"ds\"})\n",
    "display(future_df.head(5))"
   ]
  },
  {
   "cell_type": "code",
   "execution_count": 0,
   "metadata": {
    "application/vnd.databricks.v1+cell": {
     "cellMetadata": {},
     "inputWidgets": {},
     "nuid": "fb0fd151-d7eb-46cb-b9b1-0554d560b579",
     "showTitle": false,
     "tableResultSettingsMap": {},
     "title": ""
    }
   },
   "outputs": [],
   "source": [
    "# Predict future with the default horizon\n",
    "forecast_pd = future_df.groupby(id_cols).apply(lambda df: model._predict_impl(df, model._horizon)).reset_index(drop=True)"
   ]
  },
  {
   "cell_type": "code",
   "execution_count": 0,
   "metadata": {
    "application/vnd.databricks.v1+cell": {
     "cellMetadata": {},
     "inputWidgets": {},
     "nuid": "6663a792-e2f7-4b82-97b3-59355cf6aa99",
     "showTitle": false,
     "tableResultSettingsMap": {},
     "title": ""
    }
   },
   "outputs": [],
   "source": [
    "# Plotly plots is turned off by default because it takes up a lot of storage.\n",
    "# Set this flag to True and re-run the notebook to see the interactive plots with plotly\n",
    "use_plotly = False"
   ]
  },
  {
   "cell_type": "code",
   "execution_count": 0,
   "metadata": {
    "application/vnd.databricks.v1+cell": {
     "cellMetadata": {},
     "inputWidgets": {},
     "nuid": "663e9a7f-4f14-41a2-80ae-0fd9221b45e5",
     "showTitle": false,
     "tableResultSettingsMap": {},
     "title": ""
    }
   },
   "outputs": [],
   "source": [
    "# Choose a random id for plot\n",
    "forecast_pd[\"ts_id\"] = forecast_pd[id_cols].apply(tuple, axis=1)\n",
    "id = set(forecast_pd.index.to_list()).pop()\n",
    "ts_id = forecast_pd[\"ts_id\"].loc[id]\n",
    "# Get the prophet model for plot\n",
    "model = loaded_model._model_impl.python_model.model(ts_id)\n",
    "predict_pd = forecast_pd[forecast_pd[\"ts_id\"] == ts_id]"
   ]
  },
  {
   "cell_type": "markdown",
   "metadata": {
    "application/vnd.databricks.v1+cell": {
     "cellMetadata": {},
     "inputWidgets": {},
     "nuid": "80faf522-9937-4b85-be7d-39f81a59c0cc",
     "showTitle": false,
     "tableResultSettingsMap": {},
     "title": ""
    }
   },
   "source": [
    "### Plot the forecast with change points and trend\n",
    "Plot the forecast using the `plot` method with your forecast dataframe. You can use `prophet.plot.add_changepoints_to_plot` to overlay significant changepoints. An interactive figure can be created with plotly."
   ]
  },
  {
   "cell_type": "code",
   "execution_count": 0,
   "metadata": {
    "application/vnd.databricks.v1+cell": {
     "cellMetadata": {},
     "inputWidgets": {},
     "nuid": "9412ecd5-2e45-4c8d-a422-13fc30be5556",
     "showTitle": false,
     "tableResultSettingsMap": {},
     "title": ""
    }
   },
   "outputs": [],
   "source": [
    "from prophet.plot import add_changepoints_to_plot, plot_plotly\n",
    "\n",
    "if use_plotly:\n",
    "    fig = plot_plotly(model, predict_pd, changepoints=True, trend=True, figsize=(1200, 600))\n",
    "else:\n",
    "    fig = model.plot(predict_pd)\n",
    "    a = add_changepoints_to_plot(fig.gca(), model, predict_pd)\n",
    "fig"
   ]
  },
  {
   "cell_type": "markdown",
   "metadata": {
    "application/vnd.databricks.v1+cell": {
     "cellMetadata": {},
     "inputWidgets": {},
     "nuid": "889acaa6-ac55-4805-ab16-d2e5d2318941",
     "showTitle": false,
     "tableResultSettingsMap": {},
     "title": ""
    }
   },
   "source": [
    "### Plot the forecast components\n",
    "Use the `Prophet.plot_components` method to see the components. By default you'll see the trend, yearly seasonality, and weekly seasonality of the time series. You can also include holidays. An interactive figure can be created with plotly."
   ]
  },
  {
   "cell_type": "code",
   "execution_count": 0,
   "metadata": {
    "application/vnd.databricks.v1+cell": {
     "cellMetadata": {},
     "inputWidgets": {},
     "nuid": "8faa8ae6-c163-41f3-9fe7-1baf84605047",
     "showTitle": false,
     "tableResultSettingsMap": {},
     "title": ""
    }
   },
   "outputs": [],
   "source": [
    "from prophet.plot import plot_components_plotly\n",
    "if use_plotly:\n",
    "    fig = plot_components_plotly(model, predict_pd, figsize=(900, 400))\n",
    "    fig.show()\n",
    "else:\n",
    "    fig = model.plot_components(predict_pd)"
   ]
  },
  {
   "cell_type": "markdown",
   "metadata": {
    "application/vnd.databricks.v1+cell": {
     "cellMetadata": {},
     "inputWidgets": {},
     "nuid": "234679c2-d64b-4824-9725-1f64e10df7c6",
     "showTitle": false,
     "tableResultSettingsMap": {},
     "title": ""
    }
   },
   "source": [
    "## Show the predicted results"
   ]
  },
  {
   "cell_type": "code",
   "execution_count": 0,
   "metadata": {
    "application/vnd.databricks.v1+cell": {
     "cellMetadata": {},
     "inputWidgets": {},
     "nuid": "5aca82f8-0c0e-4a0d-91e1-cf9405482bac",
     "showTitle": false,
     "tableResultSettingsMap": {},
     "title": ""
    }
   },
   "outputs": [],
   "source": [
    "predict_cols = id_cols + [\"ds\", \"yhat\"]\n",
    "forecast_pd = forecast_pd.reset_index()\n",
    "display(forecast_pd[predict_cols].tail(horizon))"
   ]
  }
 ],
 "metadata": {
  "application/vnd.databricks.v1+notebook": {
   "computePreferences": null,
   "dashboards": [],
   "environmentMetadata": null,
   "inputWidgetPreferences": null,
   "language": "python",
   "notebookMetadata": {},
   "notebookName": "25-06-10-02:53-Prophet-5a67809ba9246a5619db4471e13f0a55",
   "widgets": {}
  },
  "language_info": {
   "name": "python"
  },
  "name": "Prophet-5a67809ba9246a5619db4471e13f0a55"
 },
 "nbformat": 4,
 "nbformat_minor": 0
}
