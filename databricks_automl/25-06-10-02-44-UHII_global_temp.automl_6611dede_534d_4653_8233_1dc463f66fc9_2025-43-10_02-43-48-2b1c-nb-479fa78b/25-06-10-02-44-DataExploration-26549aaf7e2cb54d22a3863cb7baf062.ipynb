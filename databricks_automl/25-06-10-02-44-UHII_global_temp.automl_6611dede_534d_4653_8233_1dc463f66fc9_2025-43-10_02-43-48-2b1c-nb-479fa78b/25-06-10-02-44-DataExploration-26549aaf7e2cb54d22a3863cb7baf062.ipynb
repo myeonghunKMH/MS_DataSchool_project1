{
 "cells": [
  {
   "cell_type": "markdown",
   "metadata": {
    "application/vnd.databricks.v1+cell": {
     "cellMetadata": {},
     "inputWidgets": {},
     "nuid": "968741e5-a855-4ffe-b197-e1c835f4750a",
     "showTitle": false,
     "tableResultSettingsMap": {},
     "title": ""
    }
   },
   "source": [
    "# Data Exploration\n",
    "- This notebook performs exploratory data analysis on the dataset.\n",
    "- To expand on the analysis, attach this notebook to a cluster with runtime version **15.4.x-cpu-ml-scala2.12**, and rerun it.\n",
    "- Explore completed trials in the [MLflow experiment](#mlflow/experiments/4326011134824325)."
   ]
  },
  {
   "cell_type": "code",
   "execution_count": 0,
   "metadata": {
    "application/vnd.databricks.v1+cell": {
     "cellMetadata": {},
     "inputWidgets": {},
     "nuid": "c13ca734-2a46-4047-8cb4-d5361cd3df37",
     "showTitle": false,
     "tableResultSettingsMap": {},
     "title": ""
    }
   },
   "outputs": [],
   "source": [
    "import os\n",
    "import uuid\n",
    "import pandas as pd\n",
    "import shutil\n",
    "import databricks.automl_runtime\n",
    "import pyspark.pandas as ps\n",
    "\n",
    "import mlflow\n",
    "\n",
    "ps.options.plotting.backend = \"matplotlib\"\n",
    "\n",
    "# Download input data from mlflow into a pyspark.pandas DataFrame\n",
    "# create temp directory to download data\n",
    "exp_temp_dir = os.path.join(os.environ[\"SPARK_LOCAL_DIRS\"], \"tmp\", str(uuid.uuid4())[:8])\n",
    "os.makedirs(exp_temp_dir)\n",
    "\n",
    "# download the artifact and read it\n",
    "exp_data_path = mlflow.artifacts.download_artifacts(run_id=\"f7b8da25ebbc4ac1871f2186a0f2269f\", artifact_path=\"data\", dst_path=exp_temp_dir)\n",
    "exp_file_path = os.path.join(exp_data_path, \"training_data\")\n",
    "exp_file_path  = \"file://\" + exp_file_path\n",
    "\n",
    "df = ps.from_pandas(pd.read_parquet(exp_file_path)).spark.cache()\n",
    "\n",
    "target_col = \"UHII\"\n",
    "time_col = \"timestamp\""
   ]
  },
  {
   "cell_type": "markdown",
   "metadata": {
    "application/vnd.databricks.v1+cell": {
     "cellMetadata": {},
     "inputWidgets": {},
     "nuid": "9d658053-69d8-444c-a0ef-d48ade64102b",
     "showTitle": false,
     "tableResultSettingsMap": {},
     "title": ""
    }
   },
   "source": [
    "### Aggregate data"
   ]
  },
  {
   "cell_type": "code",
   "execution_count": 0,
   "metadata": {
    "application/vnd.databricks.v1+cell": {
     "cellMetadata": {},
     "inputWidgets": {},
     "nuid": "3ea431df-6cf5-4d02-a16e-9d9b3ec0b232",
     "showTitle": false,
     "tableResultSettingsMap": {},
     "title": ""
    }
   },
   "outputs": [],
   "source": [
    "group_cols = [time_col]\n",
    "\n",
    "df_aggregated = df \\\n",
    "  .groupby(group_cols) \\\n",
    "  .agg(UHII=(target_col, \"avg\")) \\\n",
    "  .reset_index()"
   ]
  },
  {
   "cell_type": "markdown",
   "metadata": {
    "application/vnd.databricks.v1+cell": {
     "cellMetadata": {},
     "inputWidgets": {},
     "nuid": "aaa836af-e7d0-47f7-ab62-f4d0d83216ba",
     "showTitle": false,
     "tableResultSettingsMap": {},
     "title": ""
    }
   },
   "source": [
    "## Time column Analysis"
   ]
  },
  {
   "cell_type": "markdown",
   "metadata": {
    "application/vnd.databricks.v1+cell": {
     "cellMetadata": {},
     "inputWidgets": {},
     "nuid": "c1912306-b620-4a2f-9f9e-5a08b4c194c7",
     "showTitle": false,
     "tableResultSettingsMap": {},
     "title": ""
    }
   },
   "source": [
    "Show the time range for the time series"
   ]
  },
  {
   "cell_type": "code",
   "execution_count": 0,
   "metadata": {
    "application/vnd.databricks.v1+cell": {
     "cellMetadata": {},
     "inputWidgets": {},
     "nuid": "73a777d9-bc4a-4203-8bdf-1e05bb608cd2",
     "showTitle": false,
     "tableResultSettingsMap": {},
     "title": ""
    }
   },
   "outputs": [],
   "source": [
    "df_time_range = df_aggregated[time_col].agg([\"min\", \"max\"])\n",
    "df_time_range"
   ]
  },
  {
   "cell_type": "markdown",
   "metadata": {
    "application/vnd.databricks.v1+cell": {
     "cellMetadata": {},
     "inputWidgets": {},
     "nuid": "9bebf43a-9da0-4e35-a68f-3c13dc0c2458",
     "showTitle": false,
     "tableResultSettingsMap": {},
     "title": ""
    }
   },
   "source": [
    "## Target Value Analysis"
   ]
  },
  {
   "cell_type": "markdown",
   "metadata": {
    "application/vnd.databricks.v1+cell": {
     "cellMetadata": {},
     "inputWidgets": {},
     "nuid": "044248f9-5bc2-464b-9735-59208c96fcc8",
     "showTitle": false,
     "tableResultSettingsMap": {},
     "title": ""
    }
   },
   "source": [
    "Time series target value status"
   ]
  },
  {
   "cell_type": "code",
   "execution_count": 0,
   "metadata": {
    "application/vnd.databricks.v1+cell": {
     "cellMetadata": {},
     "inputWidgets": {},
     "nuid": "4a936291-ffd1-44a4-8be6-8812e4ed311d",
     "showTitle": false,
     "tableResultSettingsMap": {},
     "title": ""
    }
   },
   "outputs": [],
   "source": [
    "target_stats_df = df_aggregated[target_col].describe()\n",
    "display(target_stats_df.reset_index())"
   ]
  },
  {
   "cell_type": "markdown",
   "metadata": {
    "application/vnd.databricks.v1+cell": {
     "cellMetadata": {},
     "inputWidgets": {},
     "nuid": "be444e30-6276-4f9c-9c4b-aeeddb11e846",
     "showTitle": false,
     "tableResultSettingsMap": {},
     "title": ""
    }
   },
   "source": [
    "Check the number of missing values in the target column."
   ]
  },
  {
   "cell_type": "code",
   "execution_count": 0,
   "metadata": {
    "application/vnd.databricks.v1+cell": {
     "cellMetadata": {},
     "inputWidgets": {},
     "nuid": "302ab9eb-2796-4071-8bed-8233d7482980",
     "showTitle": false,
     "tableResultSettingsMap": {},
     "title": ""
    }
   },
   "outputs": [],
   "source": [
    "def num_nulls(x):\n",
    "  num_nulls = x.isnull().sum()\n",
    "  return pd.Series(num_nulls)\n",
    "\n",
    "null_stats_df = df_aggregated.apply(num_nulls)[target_col]\n",
    "null_stats_df"
   ]
  },
  {
   "cell_type": "markdown",
   "metadata": {
    "application/vnd.databricks.v1+cell": {
     "cellMetadata": {},
     "inputWidgets": {},
     "nuid": "ae2f356b-1ba1-4903-8d00-19007f471b2a",
     "showTitle": false,
     "tableResultSettingsMap": {},
     "title": ""
    }
   },
   "source": [
    "## Visualize the Data"
   ]
  },
  {
   "cell_type": "code",
   "execution_count": 0,
   "metadata": {
    "application/vnd.databricks.v1+cell": {
     "cellMetadata": {},
     "inputWidgets": {},
     "nuid": "619f77de-6349-4ff5-b9ef-1a75d92ad53c",
     "showTitle": false,
     "tableResultSettingsMap": {},
     "title": ""
    }
   },
   "outputs": [],
   "source": [
    "df_sub = df_aggregated\n",
    "\n",
    "df_sub = df_sub.filter(items=[time_col, target_col])\n",
    "df_sub.set_index(time_col, inplace=True)\n",
    "df_sub[target_col] = df_sub[target_col].astype(\"float\")"
   ]
  },
  {
   "cell_type": "code",
   "execution_count": 0,
   "metadata": {
    "application/vnd.databricks.v1+cell": {
     "cellMetadata": {},
     "inputWidgets": {},
     "nuid": "dc1b0d83-beb7-4631-927d-a0390ae87929",
     "showTitle": false,
     "tableResultSettingsMap": {},
     "title": ""
    }
   },
   "outputs": [],
   "source": [
    "import matplotlib.pyplot as plt\n",
    "\n",
    "plt.plot(df_sub, label=target_col)\n",
    "plt.legend()\n",
    "plt.show()"
   ]
  },
  {
   "cell_type": "code",
   "execution_count": 0,
   "metadata": {
    "application/vnd.databricks.v1+cell": {
     "cellMetadata": {},
     "inputWidgets": {},
     "nuid": "c2deba47-cca1-4f37-aaac-1cf893bb5f51",
     "showTitle": false,
     "tableResultSettingsMap": {},
     "title": ""
    }
   },
   "outputs": [],
   "source": [
    "# delete the temp data\n",
    "shutil.rmtree(exp_temp_dir)"
   ]
  }
 ],
 "metadata": {
  "application/vnd.databricks.v1+notebook": {
   "computePreferences": null,
   "dashboards": [],
   "environmentMetadata": null,
   "inputWidgetPreferences": null,
   "language": "python",
   "notebookMetadata": {},
   "notebookName": "25-06-10-02:44-DataExploration-26549aaf7e2cb54d22a3863cb7baf062",
   "widgets": {}
  },
  "language_info": {
   "name": "python"
  },
  "name": "DataExploration-26549aaf7e2cb54d22a3863cb7baf062"
 },
 "nbformat": 4,
 "nbformat_minor": 0
}
