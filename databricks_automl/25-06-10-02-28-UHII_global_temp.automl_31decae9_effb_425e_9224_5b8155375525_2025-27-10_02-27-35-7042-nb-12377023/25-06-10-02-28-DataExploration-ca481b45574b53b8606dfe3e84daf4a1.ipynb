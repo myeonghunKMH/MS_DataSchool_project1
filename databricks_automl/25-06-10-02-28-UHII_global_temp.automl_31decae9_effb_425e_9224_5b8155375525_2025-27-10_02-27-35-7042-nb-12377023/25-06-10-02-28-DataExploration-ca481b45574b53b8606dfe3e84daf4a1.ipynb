{
 "cells": [
  {
   "cell_type": "markdown",
   "metadata": {
    "application/vnd.databricks.v1+cell": {
     "cellMetadata": {},
     "inputWidgets": {},
     "nuid": "21382b9c-1809-478b-a7c8-d7b9373c1bac",
     "showTitle": false,
     "tableResultSettingsMap": {},
     "title": ""
    }
   },
   "source": [
    "# Data Exploration\n",
    "- This notebook performs exploratory data analysis on the dataset.\n",
    "- To expand on the analysis, attach this notebook to a cluster with runtime version **15.4.x-cpu-ml-scala2.12**, and rerun it.\n",
    "- Explore completed trials in the [MLflow experiment](#mlflow/experiments/4326011134823790)."
   ]
  },
  {
   "cell_type": "code",
   "execution_count": 0,
   "metadata": {
    "application/vnd.databricks.v1+cell": {
     "cellMetadata": {},
     "inputWidgets": {},
     "nuid": "4323950b-a685-48d6-93f7-9328be3fdd4c",
     "showTitle": false,
     "tableResultSettingsMap": {},
     "title": ""
    }
   },
   "outputs": [],
   "source": [
    "import os\n",
    "import uuid\n",
    "import pandas as pd\n",
    "import shutil\n",
    "import databricks.automl_runtime\n",
    "import pyspark.pandas as ps\n",
    "\n",
    "import mlflow\n",
    "\n",
    "ps.options.plotting.backend = \"matplotlib\"\n",
    "\n",
    "# Download input data from mlflow into a pyspark.pandas DataFrame\n",
    "# create temp directory to download data\n",
    "exp_temp_dir = os.path.join(os.environ[\"SPARK_LOCAL_DIRS\"], \"tmp\", str(uuid.uuid4())[:8])\n",
    "os.makedirs(exp_temp_dir)\n",
    "\n",
    "# download the artifact and read it\n",
    "exp_data_path = mlflow.artifacts.download_artifacts(run_id=\"cb8584093abc4fe598714ac60456d210\", artifact_path=\"data\", dst_path=exp_temp_dir)\n",
    "exp_file_path = os.path.join(exp_data_path, \"training_data\")\n",
    "exp_file_path  = \"file://\" + exp_file_path\n",
    "\n",
    "df = ps.from_pandas(pd.read_parquet(exp_file_path)).spark.cache()\n",
    "\n",
    "target_col = \"UHII\"\n",
    "time_col = \"timestamp\""
   ]
  },
  {
   "cell_type": "markdown",
   "metadata": {
    "application/vnd.databricks.v1+cell": {
     "cellMetadata": {},
     "inputWidgets": {},
     "nuid": "3dcb0648-1f35-4afd-9e11-c3b4df411448",
     "showTitle": false,
     "tableResultSettingsMap": {},
     "title": ""
    }
   },
   "source": [
    "### Aggregate data"
   ]
  },
  {
   "cell_type": "code",
   "execution_count": 0,
   "metadata": {
    "application/vnd.databricks.v1+cell": {
     "cellMetadata": {},
     "inputWidgets": {},
     "nuid": "68a93f2d-eb9a-4c12-b714-ee26173e514b",
     "showTitle": false,
     "tableResultSettingsMap": {},
     "title": ""
    }
   },
   "outputs": [],
   "source": [
    "group_cols = [time_col]\n",
    "\n",
    "df_aggregated = df \\\n",
    "  .groupby(group_cols) \\\n",
    "  .agg(UHII=(target_col, \"avg\")) \\\n",
    "  .reset_index()"
   ]
  },
  {
   "cell_type": "markdown",
   "metadata": {
    "application/vnd.databricks.v1+cell": {
     "cellMetadata": {},
     "inputWidgets": {},
     "nuid": "f971cd0d-8d00-4fd3-83eb-aee5944c0368",
     "showTitle": false,
     "tableResultSettingsMap": {},
     "title": ""
    }
   },
   "source": [
    "## Time column Analysis"
   ]
  },
  {
   "cell_type": "markdown",
   "metadata": {
    "application/vnd.databricks.v1+cell": {
     "cellMetadata": {},
     "inputWidgets": {},
     "nuid": "0f0482bd-fbf2-48f6-bdd1-b26bf3b51e74",
     "showTitle": false,
     "tableResultSettingsMap": {},
     "title": ""
    }
   },
   "source": [
    "Show the time range for the time series"
   ]
  },
  {
   "cell_type": "code",
   "execution_count": 0,
   "metadata": {
    "application/vnd.databricks.v1+cell": {
     "cellMetadata": {},
     "inputWidgets": {},
     "nuid": "f63af55b-aca1-4550-840b-43c7809933d5",
     "showTitle": false,
     "tableResultSettingsMap": {},
     "title": ""
    }
   },
   "outputs": [],
   "source": [
    "df_time_range = df_aggregated[time_col].agg([\"min\", \"max\"])\n",
    "df_time_range"
   ]
  },
  {
   "cell_type": "markdown",
   "metadata": {
    "application/vnd.databricks.v1+cell": {
     "cellMetadata": {},
     "inputWidgets": {},
     "nuid": "593173f5-b995-41a4-acea-bc214b80fa36",
     "showTitle": false,
     "tableResultSettingsMap": {},
     "title": ""
    }
   },
   "source": [
    "## Target Value Analysis"
   ]
  },
  {
   "cell_type": "markdown",
   "metadata": {
    "application/vnd.databricks.v1+cell": {
     "cellMetadata": {},
     "inputWidgets": {},
     "nuid": "0aec9349-29f9-43a9-b8e9-4c6957fd5d7d",
     "showTitle": false,
     "tableResultSettingsMap": {},
     "title": ""
    }
   },
   "source": [
    "Time series target value status"
   ]
  },
  {
   "cell_type": "code",
   "execution_count": 0,
   "metadata": {
    "application/vnd.databricks.v1+cell": {
     "cellMetadata": {},
     "inputWidgets": {},
     "nuid": "9eb840d5-c6d9-46f6-ae45-f9cf8006de6b",
     "showTitle": false,
     "tableResultSettingsMap": {},
     "title": ""
    }
   },
   "outputs": [],
   "source": [
    "target_stats_df = df_aggregated[target_col].describe()\n",
    "display(target_stats_df.reset_index())"
   ]
  },
  {
   "cell_type": "markdown",
   "metadata": {
    "application/vnd.databricks.v1+cell": {
     "cellMetadata": {},
     "inputWidgets": {},
     "nuid": "7031de75-65b9-425f-881b-c72b23c7f848",
     "showTitle": false,
     "tableResultSettingsMap": {},
     "title": ""
    }
   },
   "source": [
    "Check the number of missing values in the target column."
   ]
  },
  {
   "cell_type": "code",
   "execution_count": 0,
   "metadata": {
    "application/vnd.databricks.v1+cell": {
     "cellMetadata": {},
     "inputWidgets": {},
     "nuid": "639b85c8-d003-4e8e-b915-e13bb7001c59",
     "showTitle": false,
     "tableResultSettingsMap": {},
     "title": ""
    }
   },
   "outputs": [],
   "source": [
    "def num_nulls(x):\n",
    "  num_nulls = x.isnull().sum()\n",
    "  return pd.Series(num_nulls)\n",
    "\n",
    "null_stats_df = df_aggregated.apply(num_nulls)[target_col]\n",
    "null_stats_df"
   ]
  },
  {
   "cell_type": "markdown",
   "metadata": {
    "application/vnd.databricks.v1+cell": {
     "cellMetadata": {},
     "inputWidgets": {},
     "nuid": "15dd836b-8af7-43e2-a2aa-20450e3162ff",
     "showTitle": false,
     "tableResultSettingsMap": {},
     "title": ""
    }
   },
   "source": [
    "## Visualize the Data"
   ]
  },
  {
   "cell_type": "code",
   "execution_count": 0,
   "metadata": {
    "application/vnd.databricks.v1+cell": {
     "cellMetadata": {},
     "inputWidgets": {},
     "nuid": "ebd3a9f5-7914-4cb6-b6d2-5590e1ee240b",
     "showTitle": false,
     "tableResultSettingsMap": {},
     "title": ""
    }
   },
   "outputs": [],
   "source": [
    "df_sub = df_aggregated\n",
    "\n",
    "df_sub = df_sub.filter(items=[time_col, target_col])\n",
    "df_sub.set_index(time_col, inplace=True)\n",
    "df_sub[target_col] = df_sub[target_col].astype(\"float\")"
   ]
  },
  {
   "cell_type": "code",
   "execution_count": 0,
   "metadata": {
    "application/vnd.databricks.v1+cell": {
     "cellMetadata": {},
     "inputWidgets": {},
     "nuid": "b4536745-567c-4595-8c6c-f7ada66d75fd",
     "showTitle": false,
     "tableResultSettingsMap": {},
     "title": ""
    }
   },
   "outputs": [],
   "source": [
    "import matplotlib.pyplot as plt\n",
    "\n",
    "plt.plot(df_sub, label=target_col)\n",
    "plt.legend()\n",
    "plt.show()"
   ]
  },
  {
   "cell_type": "code",
   "execution_count": 0,
   "metadata": {
    "application/vnd.databricks.v1+cell": {
     "cellMetadata": {},
     "inputWidgets": {},
     "nuid": "2e6f5be6-7233-42bf-b99e-c6ba4aa79082",
     "showTitle": false,
     "tableResultSettingsMap": {},
     "title": ""
    }
   },
   "outputs": [],
   "source": [
    "# delete the temp data\n",
    "shutil.rmtree(exp_temp_dir)"
   ]
  }
 ],
 "metadata": {
  "application/vnd.databricks.v1+notebook": {
   "computePreferences": null,
   "dashboards": [],
   "environmentMetadata": null,
   "inputWidgetPreferences": null,
   "language": "python",
   "notebookMetadata": {},
   "notebookName": "25-06-10-02:28-DataExploration-ca481b45574b53b8606dfe3e84daf4a1",
   "widgets": {}
  },
  "language_info": {
   "name": "python"
  },
  "name": "DataExploration-ca481b45574b53b8606dfe3e84daf4a1"
 },
 "nbformat": 4,
 "nbformat_minor": 0
}
