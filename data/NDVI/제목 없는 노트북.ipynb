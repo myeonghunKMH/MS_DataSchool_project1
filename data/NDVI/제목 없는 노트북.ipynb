{
 "cells": [
  {
   "cell_type": "code",
   "execution_count": 0,
   "metadata": {
    "application/vnd.databricks.v1+cell": {
     "cellMetadata": {
      "byteLimit": 2048000,
      "implicitDf": true,
      "rowLimit": 10000
     },
     "collapsed": true,
     "inputWidgets": {},
     "nuid": "d6b44c95-305e-43d8-b7cd-4927646fea44",
     "showTitle": false,
     "tableResultSettingsMap": {},
     "title": ""
    }
   },
   "outputs": [],
   "source": [
    "%sql\n",
    "-- SELECT * FROM `001test`.default.green_area_seoul_2020_2024_s_2_sr_harmonized_adjusted_ndvi_zd_6"
   ]
  },
  {
   "cell_type": "code",
   "execution_count": 0,
   "metadata": {
    "application/vnd.databricks.v1+cell": {
     "cellMetadata": {
      "byteLimit": 2048000,
      "rowLimit": 10000
     },
     "inputWidgets": {},
     "nuid": "9995d820-bd6d-4fcb-bf4f-6dfe2fe6f5f8",
     "showTitle": false,
     "tableResultSettingsMap": {},
     "title": ""
    }
   },
   "outputs": [],
   "source": [
    "from pyspark.sql import SparkSession\n",
    "import pandas as pd\n",
    "import seaborn as sns\n",
    "import matplotlib.pyplot as plt\n",
    "\n",
    "# Spark 세션 (이미 존재하면 이 줄 생략 가능)\n",
    "spark = SparkSession.builder.getOrCreate()\n",
    "\n",
    "# 1. Spark SQL 테이블에서 필요한 컬럼만 불러오기\n",
    "df_spark = spark.sql(\"\"\"\n",
    "SELECT name_eng, area_m2, year\n",
    "FROM `001test`.default.green_area_seoul_2020_2024_s_2_sr_harmonized_adjusted_ndvi_zd_6\n",
    "\"\"\")\n",
    "\n",
    "# 2. Pandas로 변환\n",
    "df = df_spark.toPandas()\n",
    "\n",
    "# 3. 시각화\n",
    "plt.figure(figsize=(18, 8))\n",
    "sns.barplot(data=df, x='name_eng', y='area_m2', hue='year')\n",
    "\n",
    "plt.xticks(rotation=45, ha='right')\n",
    "plt.title('Green Area by District and Year')\n",
    "plt.xlabel('District (name_eng)')\n",
    "plt.ylabel('Area (m²)')\n",
    "plt.legend(title='Year')\n",
    "plt.tight_layout()\n",
    "plt.show()\n"
   ]
  },
  {
   "cell_type": "code",
   "execution_count": 0,
   "metadata": {
    "application/vnd.databricks.v1+cell": {
     "cellMetadata": {
      "byteLimit": 2048000,
      "rowLimit": 10000
     },
     "inputWidgets": {},
     "nuid": "42bedbba-1ae0-4098-8210-7849e173ec1f",
     "showTitle": false,
     "tableResultSettingsMap": {},
     "title": ""
    }
   },
   "outputs": [],
   "source": [
    "# Spark 세션 (이미 존재하면 이 줄 생략 가능)\n",
    "spark = SparkSession.builder.getOrCreate()\n",
    "\n",
    "# 1. Spark SQL 테이블에서 필요한 컬럼만 불러오기\n",
    "df_spark = spark.sql(\"\"\"\n",
    "SELECT name_eng, area_m2, year\n",
    "FROM `001test`.default.green_area_seoul_2020_2024_s_2_sr_harmonized_adjusted_ndvi_zd_8\n",
    "\"\"\")\n",
    "\n",
    "# 2. Pandas로 변환\n",
    "df = df_spark.toPandas()\n",
    "\n",
    "# 3. 시각화\n",
    "plt.figure(figsize=(18, 8))\n",
    "sns.barplot(data=df, x='name_eng', y='area_m2', hue='year')\n",
    "\n",
    "plt.xticks(rotation=45, ha='right')\n",
    "plt.title('Green Area by District and Year')\n",
    "plt.xlabel('District (name_eng)')\n",
    "plt.ylabel('Area (m²)')\n",
    "plt.legend(title='Year')\n",
    "plt.tight_layout()\n",
    "plt.show()"
   ]
  },
  {
   "cell_type": "code",
   "execution_count": 0,
   "metadata": {
    "application/vnd.databricks.v1+cell": {
     "cellMetadata": {
      "byteLimit": 2048000,
      "rowLimit": 10000
     },
     "inputWidgets": {},
     "nuid": "3bda0b54-09d1-4da5-bad8-262d4db1bf69",
     "showTitle": false,
     "tableResultSettingsMap": {},
     "title": ""
    }
   },
   "outputs": [],
   "source": [
    "# Spark 세션 (이미 존재하면 이 줄 생략 가능)\n",
    "spark = SparkSession.builder.getOrCreate()\n",
    "\n",
    "# 1. Spark SQL 테이블에서 필요한 컬럼만 불러오기\n",
    "df_spark = spark.sql(\"\"\"\n",
    "SELECT name_eng, area_m2, year\n",
    "FROM `001test`.default.green_area_seoul_2020_2024_s_2_zd4_c30\n",
    "\"\"\")\n",
    "\n",
    "# 2. Pandas로 변환\n",
    "df = df_spark.toPandas()\n",
    "\n",
    "# 3. 시각화\n",
    "plt.figure(figsize=(18, 8))\n",
    "sns.barplot(data=df, x='name_eng', y='area_m2', hue='year')\n",
    "\n",
    "plt.xticks(rotation=45, ha='right')\n",
    "plt.title('Green Area by District and Year')\n",
    "plt.xlabel('District (name_eng)')\n",
    "plt.ylabel('Area (m²)')\n",
    "plt.legend(title='Year')\n",
    "plt.tight_layout()\n",
    "plt.show()"
   ]
  },
  {
   "cell_type": "code",
   "execution_count": 0,
   "metadata": {
    "application/vnd.databricks.v1+cell": {
     "cellMetadata": {
      "byteLimit": 2048000,
      "rowLimit": 10000
     },
     "inputWidgets": {},
     "nuid": "c7bef104-bc66-4590-9540-634d79437a83",
     "showTitle": false,
     "tableResultSettingsMap": {},
     "title": ""
    }
   },
   "outputs": [],
   "source": [
    "# Spark 세션 (이미 존재하면 이 줄 생략 가능)\n",
    "spark = SparkSession.builder.getOrCreate()\n",
    "\n",
    "# 1. Spark SQL 테이블에서 필요한 컬럼만 불러오기\n",
    "df_spark = spark.sql(\"\"\"\n",
    "SELECT name_eng, area_m2, year\n",
    "FROM `001test`.default.green_area_seoul_2020_2024_zd_5_c_30\n",
    "\"\"\")\n",
    "\n",
    "# 2. Pandas로 변환\n",
    "df = df_spark.toPandas()\n",
    "\n",
    "# 3. 시각화\n",
    "plt.figure(figsize=(18, 8))\n",
    "sns.barplot(data=df, x='name_eng', y='area_m2', hue='year')\n",
    "\n",
    "plt.xticks(rotation=45, ha='right')\n",
    "plt.title('Green Area by District and Year')\n",
    "plt.xlabel('District (name_eng)')\n",
    "plt.ylabel('Area (m²)')\n",
    "plt.legend(title='Year')\n",
    "plt.tight_layout()\n",
    "plt.show()"
   ]
  },
  {
   "cell_type": "code",
   "execution_count": 0,
   "metadata": {
    "application/vnd.databricks.v1+cell": {
     "cellMetadata": {
      "byteLimit": 2048000,
      "rowLimit": 10000
     },
     "inputWidgets": {},
     "nuid": "d5353ac6-32b6-42ec-bb08-bb06ef30f98f",
     "showTitle": false,
     "tableResultSettingsMap": {},
     "title": ""
    }
   },
   "outputs": [],
   "source": [
    "# Spark 세션 (이미 존재하면 이 줄 생략 가능)\n",
    "spark = SparkSession.builder.getOrCreate()\n",
    "\n",
    "# 1. Spark SQL 테이블에서 필요한 컬럼만 불러오기\n",
    "df_spark = spark.sql(\"\"\"\n",
    "SELECT name_eng, area_m2, year, green_rate\n",
    "FROM `001test`.default.green_area_20_24_zd_4_c_50\n",
    "\"\"\")\n",
    "\n",
    "# 2. Pandas로 변환\n",
    "df = df_spark.toPandas()\n",
    "\n",
    "# 3. 시각화\n",
    "plt.figure(figsize=(18, 8))\n",
    "sns.barplot(data=df, x='name_eng', y='green_rate', hue='year')\n",
    "\n",
    "plt.xticks(rotation=45, ha='right')\n",
    "plt.title('Green Area by District and Year')\n",
    "plt.xlabel('District (name_eng)')\n",
    "plt.ylabel('Area (m²)')\n",
    "plt.legend(title='Year')\n",
    "plt.tight_layout()\n",
    "plt.show()"
   ]
  },
  {
   "cell_type": "code",
   "execution_count": 0,
   "metadata": {
    "application/vnd.databricks.v1+cell": {
     "cellMetadata": {
      "byteLimit": 2048000,
      "rowLimit": 10000
     },
     "inputWidgets": {},
     "nuid": "e521dd14-fc4e-474d-9ed0-30565eb23c55",
     "showTitle": false,
     "tableResultSettingsMap": {},
     "title": ""
    }
   },
   "outputs": [],
   "source": [
    "# Spark 세션 (이미 존재하면 이 줄 생략 가능)\n",
    "spark = SparkSession.builder.getOrCreate()\n",
    "\n",
    "# 1. Spark SQL 테이블에서 필요한 컬럼만 불러오기\n",
    "df_spark = spark.sql(\"\"\"\n",
    "SELECT name_eng, area_m2, year\n",
    "FROM `001test`.default.Active_green_ratio\n",
    "\"\"\")\n",
    "\n",
    "# 2. Pandas로 변환\n",
    "df = df_spark.toPandas()\n",
    "\n",
    "# 3. 시각화\n",
    "plt.figure(figsize=(18, 8))\n",
    "sns.barplot(data=df, x='name_eng', y='area_m2', hue='year')\n",
    "\n",
    "plt.xticks(rotation=45, ha='right')\n",
    "plt.title('Green Area by District and Year')\n",
    "plt.xlabel('District (name_eng)')\n",
    "plt.ylabel('Area (m²)')\n",
    "plt.legend(title='Year')\n",
    "plt.tight_layout()\n",
    "plt.show()"
   ]
  },
  {
   "cell_type": "markdown",
   "metadata": {
    "application/vnd.databricks.v1+cell": {
     "cellMetadata": {},
     "inputWidgets": {},
     "nuid": "754d58b6-f6f9-4d32-91cd-be9972b9bf09",
     "showTitle": false,
     "tableResultSettingsMap": {},
     "title": ""
    }
   },
   "source": [
    "022test.default.car_register"
   ]
  },
  {
   "cell_type": "code",
   "execution_count": 0,
   "metadata": {
    "application/vnd.databricks.v1+cell": {
     "cellMetadata": {
      "byteLimit": 2048000,
      "rowLimit": 10000
     },
     "inputWidgets": {},
     "nuid": "d3b15cc4-9878-4d28-8252-173c1a5c8bad",
     "showTitle": false,
     "tableResultSettingsMap": {},
     "title": ""
    }
   },
   "outputs": [],
   "source": [
    "# 1. Spark SQL 테이블에서 필요한 컬럼만 불러오기\n",
    "df_spark = spark.sql(\"\"\"\n",
    "SELECT *\n",
    "FROM `022test`.default.car_register\n",
    "\"\"\")\n",
    "\n",
    "# 2. Pandas로 변환\n",
    "df = df_spark.toPandas()\n",
    "\n",
    "display(df)"
   ]
  }
 ],
 "metadata": {
  "application/vnd.databricks.v1+notebook": {
   "computePreferences": null,
   "dashboards": [],
   "environmentMetadata": {
    "base_environment": "",
    "environment_version": "2"
   },
   "inputWidgetPreferences": null,
   "language": "python",
   "notebookMetadata": {
    "mostRecentlyExecutedCommandWithImplicitDF": {
     "commandId": 4620999383762358,
     "dataframes": [
      "_sqldf"
     ]
    },
    "pythonIndentUnit": 4
   },
   "notebookName": "제목 없는 노트북 2025-05-29 15:34:59",
   "widgets": {}
  },
  "language_info": {
   "name": "python"
  }
 },
 "nbformat": 4,
 "nbformat_minor": 0
}
