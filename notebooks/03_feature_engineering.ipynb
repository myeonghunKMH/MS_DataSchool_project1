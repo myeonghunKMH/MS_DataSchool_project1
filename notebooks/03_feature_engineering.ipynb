{
 "cells": [
  {
   "cell_type": "code",
   "execution_count": 0,
   "metadata": {
    "application/vnd.databricks.v1+cell": {
     "cellMetadata": {
      "byteLimit": 2048000,
      "rowLimit": 10000
     },
     "inputWidgets": {},
     "nuid": "e45281da-16dd-4819-b9f0-5ce6cf46fcb8",
     "showTitle": false,
     "tableResultSettingsMap": {},
     "title": ""
    }
   },
   "outputs": [],
   "source": [
    "import os\n",
    "from pyspark.sql import SparkSession\n",
    "from pyspark.sql.functions import (\n",
    "    col, lit, sin, cos, pi, lag, avg,\n",
    "    max as spark_max, min as spark_min, expr, when, concat,\n",
    "    round # 현재 코드에는 없지만 이전 코드에서 라운딩을 사용했다면 필요\n",
    "    # substring, split, regexp_replace, sum 등은 현재 코드에 사용되지 않으므로 제거\n",
    "    # unix_timestamp, from_unixtime, concat_ws 등은 현재 코드에서 더 이상 직접 사용되지 않으므로 제거\n",
    ")\n",
    "from pyspark.sql.window import Window"
   ]
  },
  {
   "cell_type": "code",
   "execution_count": 0,
   "metadata": {
    "application/vnd.databricks.v1+cell": {
     "cellMetadata": {
      "byteLimit": 2048000,
      "rowLimit": 10000
     },
     "inputWidgets": {},
     "nuid": "4e372ef6-cfb5-4011-9275-c553fb938c85",
     "showTitle": false,
     "tableResultSettingsMap": {},
     "title": ""
    }
   },
   "outputs": [],
   "source": [
    "df=spark.read.option(\"header\", \"true\").csv('/Volumes/project/default/project/join_v2.csv/')"
   ]
  },
  {
   "cell_type": "code",
   "execution_count": 0,
   "metadata": {
    "application/vnd.databricks.v1+cell": {
     "cellMetadata": {
      "byteLimit": 2048000,
      "rowLimit": 10000
     },
     "inputWidgets": {},
     "nuid": "c20414df-603d-4fbb-9592-a7cb6ba3e3e4",
     "showTitle": false,
     "tableResultSettingsMap": {},
     "title": ""
    }
   },
   "outputs": [],
   "source": [
    "df.groupBy(\"year\").count().orderBy(\"year\").show()"
   ]
  },
  {
   "cell_type": "code",
   "execution_count": 0,
   "metadata": {
    "application/vnd.databricks.v1+cell": {
     "cellMetadata": {
      "byteLimit": 2048000,
      "rowLimit": 10000
     },
     "inputWidgets": {},
     "nuid": "1a8dbb55-ac21-4def-8cf4-a3138db776ca",
     "showTitle": false,
     "tableResultSettingsMap": {},
     "title": ""
    }
   },
   "outputs": [],
   "source": [
    "display(df.limit(5))"
   ]
  },
  {
   "cell_type": "code",
   "execution_count": 0,
   "metadata": {
    "application/vnd.databricks.v1+cell": {
     "cellMetadata": {
      "byteLimit": 2048000,
      "rowLimit": 10000
     },
     "inputWidgets": {},
     "nuid": "9ac9d4a4-d0f6-4ba3-9963-048b82dad190",
     "showTitle": false,
     "tableResultSettingsMap": {},
     "title": ""
    }
   },
   "outputs": [],
   "source": [
    "# 'year', 'month', 'day', 'hour' 컬럼을 조합하여 timestamp 컬럼 생성\n",
    "df = df.withColumn('timestamp_str',\n",
    "                   concat(\n",
    "                       col('year'), lit('-'),\n",
    "                       col('month'), lit('-'),\n",
    "                       col('day'), lit(' '),\n",
    "                       expr(\"LPAD(hour, 2, '0')\"), lit(':00:00')\n",
    "                   )) \\\n",
    "       .withColumn('timestamp', col('timestamp_str').cast('timestamp')) \\\n",
    "       .drop('timestamp_str') # 임시 컬럼 제거"
   ]
  },
  {
   "cell_type": "code",
   "execution_count": 0,
   "metadata": {
    "application/vnd.databricks.v1+cell": {
     "cellMetadata": {
      "byteLimit": 2048000,
      "rowLimit": 10000
     },
     "inputWidgets": {},
     "nuid": "25c90411-a9c2-427c-819a-27a3fa56cddd",
     "showTitle": false,
     "tableResultSettingsMap": {},
     "title": ""
    }
   },
   "outputs": [],
   "source": [
    "# 중요: 시계열 처리를 위해 District와 timestamp 기준으로 정렬해야 합니다.\n",
    "df = df.orderBy(col('District'), col('timestamp'))"
   ]
  },
  {
   "cell_type": "code",
   "execution_count": 0,
   "metadata": {
    "application/vnd.databricks.v1+cell": {
     "cellMetadata": {
      "byteLimit": 2048000,
      "rowLimit": 10000
     },
     "inputWidgets": {},
     "nuid": "f01bae48-d3f3-439b-850f-19eec3e1d4e6",
     "showTitle": false,
     "tableResultSettingsMap": {},
     "title": ""
    }
   },
   "outputs": [],
   "source": [
    "# 기존 월별 주기성 피처 대신, 단순 월 컬럼 또는 각 월을 나타내는 이진형 피처 고려\n",
    "# 여름철 데이터에 한정되므로 month_sin/cos의 중요도 낮음.\n",
    "# 여기서는 'month' 컬럼을 그대로 사용하고, 'is_july_august' 같은 특정 피크 월 이진형 피처를 추가해 봅니다.\n",
    "df = df.withColumn('hour_sin', sin(2 * pi() * col('hour') / 24)) \\\n",
    "       .withColumn('hour_cos', cos(2 * pi() * col('hour') / 24)) \\\n",
    "       .withColumn('day_of_week', expr(\"dayofweek(timestamp)\")) # PySpark dayofweek는 일요일=1, 토요일=7\n",
    "df = df.withColumn('day_of_week_sin', sin(2 * pi() * (col('day_of_week') -1) / 7))\n",
    "df = df.withColumn('day_of_week_cos', cos(2 * pi() * (col('day_of_week') -1) / 7))\n",
    "# 야간 시간대 이진형 피처 추가 (열섬 심화)\n",
    "df = df.withColumn('is_night_time', when((col('hour') >= 21) | (col('hour') < 6), 1).otherwise(0))"
   ]
  },
  {
   "cell_type": "code",
   "execution_count": 0,
   "metadata": {
    "application/vnd.databricks.v1+cell": {
     "cellMetadata": {
      "byteLimit": 2048000,
      "rowLimit": 10000
     },
     "inputWidgets": {},
     "nuid": "34ab6527-d4cc-4109-a7a6-80688c48166f",
     "showTitle": false,
     "tableResultSettingsMap": {},
     "title": ""
    }
   },
   "outputs": [],
   "source": [
    "# Window 명세 정의: District별로 그룹화하고 timestamp 기준으로 정렬 (필수!)\n",
    "window_spec = Window.partitionBy('District').orderBy('timestamp')\n",
    "\n",
    "# 1) 현재 교외 온도\n",
    "df = df.withColumn('suburban_temp_current', col('avg_temp_aws'))\n",
    "\n",
    "# 2) 24시간 전 교외 온도 (lag_8)\n",
    "df = df.withColumn('suburban_temp_lag_24hr', lag(col('avg_temp_aws'), 8).over(window_spec))\n",
    "\n",
    "# 3) 지난 24시간 이동 평균 교외 온도 (rolling_avg_24hr)\n",
    "df = df.withColumn('suburban_temp_ma_24hr', avg(col('avg_temp_aws')).over(window_spec.rowsBetween(-8, -1)))\n",
    "\n",
    "# 4) 3시간 전 교외 온도 (lag_1)\n",
    "df = df.withColumn('suburban_temp_lag_3hr', lag(col('avg_temp_aws'), 1).over(window_spec))\n",
    "\n",
    "# UHII (레이블) 지연 피처도 추가 (XGBoost 입력 피처로 사용)\n",
    "df = df.withColumn('UHII_lag_8', lag(col('UHII'), 8).over(window_spec))\n",
    "df = df.withColumn('UHII_lag_1', lag(col('UHII'), 1).over(window_spec)) # 단기 UHII 변화도 중요"
   ]
  },
  {
   "cell_type": "code",
   "execution_count": 0,
   "metadata": {
    "application/vnd.databricks.v1+cell": {
     "cellMetadata": {
      "byteLimit": 2048000,
      "rowLimit": 10000
     },
     "inputWidgets": {},
     "nuid": "2525e4fb-18a6-4fcf-a55c-f74a00578153",
     "showTitle": false,
     "tableResultSettingsMap": {},
     "title": ""
    }
   },
   "outputs": [],
   "source": [
    "# --- 필요 없는 원본 컬럼 제거 ---\n",
    "# 'year', 'day', 'hour'는 'timestamp'와 파생된 주기성 피처로 대체되었으므로 제거\n",
    "# 'avg_temp_aws'는 'suburban_temp_current' 등으로 대체되었으므로 제거\n",
    "# 'avg_temp_sdot'는 UHII 계산에 사용되었으므로 제거\n",
    "# 'day_of_week'는 sin/cos 변환되었으므로 제거\n",
    "df = df.drop('month', 'day', 'hour', 'avg_temp_sdot', 'avg_temp_aws', 'day_of_week')"
   ]
  },
  {
   "cell_type": "code",
   "execution_count": 0,
   "metadata": {
    "application/vnd.databricks.v1+cell": {
     "cellMetadata": {
      "byteLimit": 2048000,
      "rowLimit": 10000
     },
     "inputWidgets": {},
     "nuid": "87cd3399-4775-4a45-8381-c832f6214a2b",
     "showTitle": false,
     "tableResultSettingsMap": {},
     "title": ""
    }
   },
   "outputs": [],
   "source": [
    "# --- NaN 값 처리 ---\n",
    "df_processed = df.na.drop()"
   ]
  },
  {
   "cell_type": "code",
   "execution_count": 0,
   "metadata": {
    "application/vnd.databricks.v1+cell": {
     "cellMetadata": {
      "byteLimit": 2048000,
      "rowLimit": 10000
     },
     "inputWidgets": {},
     "nuid": "1fa55e11-0b62-4468-95ed-53e789149696",
     "showTitle": false,
     "tableResultSettingsMap": {},
     "title": ""
    }
   },
   "outputs": [],
   "source": [
    "print(f\"최종 DataFrame 컬럼: {df_processed.columns}\")\n",
    "print(f\"최종 DataFrame 크기: {df_processed.count()} 행\")"
   ]
  },
  {
   "cell_type": "code",
   "execution_count": 0,
   "metadata": {
    "application/vnd.databricks.v1+cell": {
     "cellMetadata": {
      "byteLimit": 2048000,
      "rowLimit": 10000
     },
     "inputWidgets": {},
     "nuid": "82cb97e5-1026-40e7-9623-59f9412c75b5",
     "showTitle": false,
     "tableResultSettingsMap": {},
     "title": ""
    }
   },
   "outputs": [],
   "source": [
    "display(df_processed.limit(1))"
   ]
  },
  {
   "cell_type": "code",
   "execution_count": 0,
   "metadata": {
    "application/vnd.databricks.v1+cell": {
     "cellMetadata": {
      "byteLimit": 2048000,
      "rowLimit": 10000
     },
     "inputWidgets": {},
     "nuid": "7bc53a55-3fc5-4d6c-99ed-a966f7bec7ce",
     "showTitle": false,
     "tableResultSettingsMap": {},
     "title": ""
    }
   },
   "outputs": [],
   "source": [
    "df_processed.printSchema()"
   ]
  },
  {
   "cell_type": "code",
   "execution_count": 0,
   "metadata": {
    "application/vnd.databricks.v1+cell": {
     "cellMetadata": {
      "byteLimit": 2048000,
      "rowLimit": 10000
     },
     "inputWidgets": {},
     "nuid": "9b4827e3-d8e5-4547-af57-572d18a0a4e1",
     "showTitle": false,
     "tableResultSettingsMap": {},
     "title": ""
    }
   },
   "outputs": [],
   "source": [
    "df=df_processed\n",
    "output_path = \"/Volumes/project/default/project/UHI_data_test.csv\"\n",
    "df.coalesce(1).write.mode(\"overwrite\").option(\"header\", \"true\").csv(output_path)\n",
    "\n",
    "print(f\"DataFrame이 '{output_path}' 경로에 성공적으로 덮어쓰여졌습니다.\")"
   ]
  },
  {
   "cell_type": "code",
   "execution_count": 0,
   "metadata": {
    "application/vnd.databricks.v1+cell": {
     "cellMetadata": {
      "byteLimit": 2048000,
      "rowLimit": 10000
     },
     "inputWidgets": {},
     "nuid": "378cdeb3-63e6-472d-85d1-3809fcd6bbe1",
     "showTitle": false,
     "tableResultSettingsMap": {},
     "title": ""
    }
   },
   "outputs": [],
   "source": [
    "df=df_processed\n",
    "\n",
    "df.groupBy(\"year\").count().orderBy(\"year\").show()"
   ]
  }
 ],
 "metadata": {
  "application/vnd.databricks.v1+notebook": {
   "computePreferences": null,
   "dashboards": [],
   "environmentMetadata": {
    "base_environment": "",
    "environment_version": "2"
   },
   "inputWidgetPreferences": null,
   "language": "python",
   "notebookMetadata": {
    "pythonIndentUnit": 4
   },
   "notebookName": "3. 지연피쳐생성",
   "widgets": {}
  },
  "language_info": {
   "name": "python"
  }
 },
 "nbformat": 4,
 "nbformat_minor": 0
}
